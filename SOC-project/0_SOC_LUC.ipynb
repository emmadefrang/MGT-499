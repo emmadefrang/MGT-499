{
 "cells": [
  {
   "cell_type": "markdown",
   "metadata": {
    "id": "aYiOFf7sw--Y"
   },
   "source": [
    "Hello   "
   ]
  },
  {
   "cell_type": "code",
   "execution_count": 1,
   "metadata": {
    "colab": {
     "base_uri": "https://localhost:8080/"
    },
    "id": "8EDelrlnADPG",
    "outputId": "91e86689-b064-4351-d598-da8ff1f79269"
   },
   "outputs": [
    {
     "name": "stdout",
     "output_type": "stream",
     "text": [
      "Requirement already satisfied: tap-py in c:\\users\\defrang\\appdata\\local\\pypoetry\\cache\\virtualenvs\\mgt-499-hfobdtw9-py3.12\\lib\\site-packages (3.1)\n"
     ]
    },
    {
     "name": "stderr",
     "output_type": "stream",
     "text": [
      "\n",
      "[notice] A new release of pip is available: 24.0 -> 24.3.1\n",
      "[notice] To update, run: python.exe -m pip install --upgrade pip\n"
     ]
    }
   ],
   "source": [
    "!pip install tap-py"
   ]
  },
  {
   "cell_type": "code",
   "execution_count": 2,
   "metadata": {
    "colab": {
     "base_uri": "https://localhost:8080/"
    },
    "id": "Z_-jTmmdXxmw",
    "outputId": "ef548bb1-d8d0-4634-b027-c94b0d7e764d"
   },
   "outputs": [
    {
     "name": "stdout",
     "output_type": "stream",
     "text": [
      "Requirement already satisfied: kaleido in c:\\users\\defrang\\appdata\\local\\pypoetry\\cache\\virtualenvs\\mgt-499-hfobdtw9-py3.12\\lib\\site-packages (0.2.1)\n"
     ]
    },
    {
     "name": "stderr",
     "output_type": "stream",
     "text": [
      "\n",
      "[notice] A new release of pip is available: 24.0 -> 24.3.1\n",
      "[notice] To update, run: python.exe -m pip install --upgrade pip\n"
     ]
    }
   ],
   "source": [
    "!pip install -U kaleido"
   ]
  },
  {
   "cell_type": "code",
   "execution_count": 3,
   "metadata": {
    "id": "nXpHhOegw--e"
   },
   "outputs": [],
   "source": [
    "import pandas as pd\n",
    "import numpy as np\n",
    "import matplotlib.pyplot as plt\n",
    "import plotly as pltly\n",
    "import plotly.express as px\n",
    "import seaborn as sns\n",
    "import scipy.stats as stats\n",
    "import kaleido\n",
    "\n"
   ]
  },
  {
   "cell_type": "code",
   "execution_count": null,
   "metadata": {},
   "outputs": [],
   "source": [
    "SAVE_HTML = False\n",
    "SAVE_FIGS = False"
   ]
  },
  {
   "cell_type": "code",
   "execution_count": 4,
   "metadata": {
    "colab": {
     "base_uri": "https://localhost:8080/"
    },
    "id": "ZrI_kYRc4_ID",
    "outputId": "b2f4ebae-362e-4e86-a03a-c618a48faa37"
   },
   "outputs": [
    {
     "name": "stderr",
     "output_type": "stream",
     "text": [
      "fatal: destination path 'MGT-499' already exists and is not an empty directory.\n"
     ]
    }
   ],
   "source": [
    "! git clone https://github.com/emmadefrang/MGT-499\n"
   ]
  },
  {
   "cell_type": "code",
   "execution_count": 8,
   "metadata": {
    "colab": {
     "base_uri": "https://localhost:8080/",
     "height": 516
    },
    "id": "7y5rcW3N0u1c",
    "outputId": "73a000ec-915a-40df-e4bc-bfe1c50fbcca"
   },
   "outputs": [
    {
     "data": {
      "text/html": [
       "<div>\n",
       "<style scoped>\n",
       "    .dataframe tbody tr th:only-of-type {\n",
       "        vertical-align: middle;\n",
       "    }\n",
       "\n",
       "    .dataframe tbody tr th {\n",
       "        vertical-align: top;\n",
       "    }\n",
       "\n",
       "    .dataframe thead th {\n",
       "        text-align: right;\n",
       "    }\n",
       "</style>\n",
       "<table border=\"1\" class=\"dataframe\">\n",
       "  <thead>\n",
       "    <tr style=\"text-align: right;\">\n",
       "      <th></th>\n",
       "      <th>Unnamed: 0</th>\n",
       "      <th>ID</th>\n",
       "      <th>IDstudy</th>\n",
       "      <th>plotID</th>\n",
       "      <th>country</th>\n",
       "      <th>region</th>\n",
       "      <th>climate</th>\n",
       "      <th>bedrock</th>\n",
       "      <th>soil_type</th>\n",
       "      <th>TYPE_CHANGE</th>\n",
       "      <th>...</th>\n",
       "      <th>soil_to_cm_previous</th>\n",
       "      <th>depth_midpoint_previous</th>\n",
       "      <th>Bulkdensity_previous</th>\n",
       "      <th>%clay_previous</th>\n",
       "      <th>%silt_previous</th>\n",
       "      <th>%sand_previous</th>\n",
       "      <th>ph_previous</th>\n",
       "      <th>SOC_Mg_ha_previous</th>\n",
       "      <th>SOC_change</th>\n",
       "      <th>SOC_percentage_change</th>\n",
       "    </tr>\n",
       "  </thead>\n",
       "  <tbody>\n",
       "    <tr>\n",
       "      <th>0</th>\n",
       "      <td>0</td>\n",
       "      <td>1</td>\n",
       "      <td>1</td>\n",
       "      <td>1</td>\n",
       "      <td>Brazil</td>\n",
       "      <td>SaoPaulo</td>\n",
       "      <td>Tropical</td>\n",
       "      <td>Sandstone</td>\n",
       "      <td>Ferralsols</td>\n",
       "      <td>LUC</td>\n",
       "      <td>...</td>\n",
       "      <td>30.000000</td>\n",
       "      <td>20.000000</td>\n",
       "      <td>1.450000</td>\n",
       "      <td>21.900000</td>\n",
       "      <td>9.333333</td>\n",
       "      <td>68.766667</td>\n",
       "      <td>NaN</td>\n",
       "      <td>29.446667</td>\n",
       "      <td>8.060000</td>\n",
       "      <td>-27.371519</td>\n",
       "    </tr>\n",
       "    <tr>\n",
       "      <th>1</th>\n",
       "      <td>1</td>\n",
       "      <td>5</td>\n",
       "      <td>1</td>\n",
       "      <td>2</td>\n",
       "      <td>Brazil</td>\n",
       "      <td>SaoPaulo</td>\n",
       "      <td>Tropical</td>\n",
       "      <td>Sandstone</td>\n",
       "      <td>Luvisol</td>\n",
       "      <td>LUC</td>\n",
       "      <td>...</td>\n",
       "      <td>30.000000</td>\n",
       "      <td>20.000000</td>\n",
       "      <td>1.246667</td>\n",
       "      <td>46.800000</td>\n",
       "      <td>10.400000</td>\n",
       "      <td>42.766667</td>\n",
       "      <td>NaN</td>\n",
       "      <td>32.830000</td>\n",
       "      <td>8.283333</td>\n",
       "      <td>-25.230988</td>\n",
       "    </tr>\n",
       "    <tr>\n",
       "      <th>2</th>\n",
       "      <td>2</td>\n",
       "      <td>9</td>\n",
       "      <td>1</td>\n",
       "      <td>3</td>\n",
       "      <td>Brazil</td>\n",
       "      <td>SaoPaulo</td>\n",
       "      <td>Tropical</td>\n",
       "      <td>Granite</td>\n",
       "      <td>Ferralsols</td>\n",
       "      <td>LUC</td>\n",
       "      <td>...</td>\n",
       "      <td>30.000000</td>\n",
       "      <td>20.000000</td>\n",
       "      <td>1.416667</td>\n",
       "      <td>30.366667</td>\n",
       "      <td>8.000000</td>\n",
       "      <td>62.566667</td>\n",
       "      <td>NaN</td>\n",
       "      <td>31.370000</td>\n",
       "      <td>0.463333</td>\n",
       "      <td>-1.476995</td>\n",
       "    </tr>\n",
       "    <tr>\n",
       "      <th>3</th>\n",
       "      <td>3</td>\n",
       "      <td>13</td>\n",
       "      <td>1</td>\n",
       "      <td>4</td>\n",
       "      <td>Brazil</td>\n",
       "      <td>SaoPaulo</td>\n",
       "      <td>Tropical</td>\n",
       "      <td>Sandstone</td>\n",
       "      <td>Luvisol</td>\n",
       "      <td>LUC</td>\n",
       "      <td>...</td>\n",
       "      <td>30.000000</td>\n",
       "      <td>20.000000</td>\n",
       "      <td>1.396667</td>\n",
       "      <td>11.500000</td>\n",
       "      <td>6.866667</td>\n",
       "      <td>81.633333</td>\n",
       "      <td>NaN</td>\n",
       "      <td>25.270000</td>\n",
       "      <td>5.310000</td>\n",
       "      <td>-21.013059</td>\n",
       "    </tr>\n",
       "    <tr>\n",
       "      <th>4</th>\n",
       "      <td>4</td>\n",
       "      <td>26</td>\n",
       "      <td>4</td>\n",
       "      <td>8</td>\n",
       "      <td>New_Zeland</td>\n",
       "      <td>Bay_of_Plenty</td>\n",
       "      <td>Temperate</td>\n",
       "      <td>Volcanic</td>\n",
       "      <td>Mollic_Andosol</td>\n",
       "      <td>LUC</td>\n",
       "      <td>...</td>\n",
       "      <td>4.163636</td>\n",
       "      <td>3.754545</td>\n",
       "      <td>1.203636</td>\n",
       "      <td>NaN</td>\n",
       "      <td>NaN</td>\n",
       "      <td>NaN</td>\n",
       "      <td>5.72</td>\n",
       "      <td>90.872727</td>\n",
       "      <td>-0.009091</td>\n",
       "      <td>0.010004</td>\n",
       "    </tr>\n",
       "  </tbody>\n",
       "</table>\n",
       "<p>5 rows × 44 columns</p>\n",
       "</div>"
      ],
      "text/plain": [
       "   Unnamed: 0  ID  IDstudy  plotID     country         region    climate  \\\n",
       "0           0   1        1       1      Brazil       SaoPaulo   Tropical   \n",
       "1           1   5        1       2      Brazil       SaoPaulo   Tropical   \n",
       "2           2   9        1       3      Brazil       SaoPaulo   Tropical   \n",
       "3           3  13        1       4      Brazil       SaoPaulo   Tropical   \n",
       "4           4  26        4       8  New_Zeland  Bay_of_Plenty  Temperate   \n",
       "\n",
       "     bedrock       soil_type TYPE_CHANGE  ... soil_to_cm_previous  \\\n",
       "0  Sandstone      Ferralsols         LUC  ...           30.000000   \n",
       "1  Sandstone         Luvisol         LUC  ...           30.000000   \n",
       "2    Granite      Ferralsols         LUC  ...           30.000000   \n",
       "3  Sandstone         Luvisol         LUC  ...           30.000000   \n",
       "4   Volcanic  Mollic_Andosol         LUC  ...            4.163636   \n",
       "\n",
       "  depth_midpoint_previous Bulkdensity_previous %clay_previous %silt_previous  \\\n",
       "0               20.000000             1.450000      21.900000       9.333333   \n",
       "1               20.000000             1.246667      46.800000      10.400000   \n",
       "2               20.000000             1.416667      30.366667       8.000000   \n",
       "3               20.000000             1.396667      11.500000       6.866667   \n",
       "4                3.754545             1.203636            NaN            NaN   \n",
       "\n",
       "   %sand_previous  ph_previous  SOC_Mg_ha_previous  SOC_change  \\\n",
       "0       68.766667          NaN           29.446667    8.060000   \n",
       "1       42.766667          NaN           32.830000    8.283333   \n",
       "2       62.566667          NaN           31.370000    0.463333   \n",
       "3       81.633333          NaN           25.270000    5.310000   \n",
       "4             NaN         5.72           90.872727   -0.009091   \n",
       "\n",
       "   SOC_percentage_change  \n",
       "0             -27.371519  \n",
       "1             -25.230988  \n",
       "2              -1.476995  \n",
       "3             -21.013059  \n",
       "4               0.010004  \n",
       "\n",
       "[5 rows x 44 columns]"
      ]
     },
     "execution_count": 8,
     "metadata": {},
     "output_type": "execute_result"
    }
   ],
   "source": [
    "#df = pd.read_csv(r\"/content/MGT-499/SOC-project/SOC perennials DATABASE.csv\",\n",
    "                #skiprows=1,\n",
    "                 #encoding = 'cp1252')\n",
    "\n",
    "\n",
    "df = pd.read_csv (r\"C:\\Users\\defrang\\MGT_499\\SOC-project\\df_cleaned.csv\")\n",
    "df.head()"
   ]
  },
  {
   "cell_type": "code",
   "execution_count": 9,
   "metadata": {
    "colab": {
     "base_uri": "https://localhost:8080/"
    },
    "id": "C0Abh8ntw--m",
    "outputId": "8b42b139-d7c6-4dc0-bd11-4bee1d21ba08"
   },
   "outputs": [
    {
     "data": {
      "text/plain": [
       "Index(['Unnamed: 0', 'ID', 'IDstudy', 'plotID', 'country', 'region', 'climate',\n",
       "       'bedrock', 'soil_type', 'TYPE_CHANGE', 'CROP_current', 'CROP_type',\n",
       "       'current_land_use*', 'LUC_this_study', 'previous_land_use*',\n",
       "       'NUM_DEPTH', 'N_measured_current.1', 'temperature_Celsiul',\n",
       "       'precipitation_mm', 'Latitud', 'Longitud', 'years_since_luc',\n",
       "       'year_measure', 'soil_from_cm_current', 'soil_to_cm_current',\n",
       "       'depth_midpoint_current', 'bulk_density_Mg_m3_current', '%clay_current',\n",
       "       '%silt_current', '%sand_current', 'ph_current', 'SOC_Mg_ha_current',\n",
       "       'sd_SOC_Mgha_current', 'soil_from_cm_previous', 'soil_to_cm_previous',\n",
       "       'depth_midpoint_previous', 'Bulkdensity_previous', '%clay_previous',\n",
       "       '%silt_previous', '%sand_previous', 'ph_previous', 'SOC_Mg_ha_previous',\n",
       "       'SOC_change', 'SOC_percentage_change'],\n",
       "      dtype='object')"
      ]
     },
     "execution_count": 9,
     "metadata": {},
     "output_type": "execute_result"
    }
   ],
   "source": [
    "#Check the data types\n",
    "df.dtypes\n",
    "\n",
    "df.describe()\n",
    "\n",
    "#List all column names\n",
    "df.columns\n"
   ]
  },
  {
   "cell_type": "markdown",
   "metadata": {},
   "source": [
    "We will now pivot the df so that there is a binary column called Period with a value of either 0 (previous) or 1 (current). "
   ]
  },
  {
   "cell_type": "code",
   "execution_count": 70,
   "metadata": {},
   "outputs": [],
   "source": [
    "constant_vars = [\n",
    "    'ID', 'IDstudy', 'plotID', 'country', 'region', 'climate',\n",
    "    'bedrock', 'soil_type', 'temperature_Celsiul',\n",
    "    'precipitation_mm', 'Latitud', 'Longitud']\n",
    "\n",
    "current_vars = [ \n",
    "    'year_measure', 'TYPE_CHANGE', 'years_since_luc', 'CROP_current', 'CROP_type', 'current_land_use*', \n",
    "    'N_measured_current.1',\n",
    "    'soil_from_cm_current', 'soil_to_cm_current', 'depth_midpoint_current',\n",
    "    'bulk_density_Mg_m3_current', '%clay_current', '%silt_current',\n",
    "    '%sand_current', 'ph_current', 'SOC_Mg_ha_current'\n",
    "]\n",
    "\n",
    "previous_vars = [\n",
    "    'previous_land_use*', 'soil_from_cm_previous', 'soil_to_cm_previous', 'depth_midpoint_previous',\n",
    "    'Bulkdensity_previous', '%clay_previous', '%silt_previous',\n",
    "    '%sand_previous', 'ph_previous', 'SOC_Mg_ha_previous'\n",
    "]\n"
   ]
  },
  {
   "cell_type": "code",
   "execution_count": 71,
   "metadata": {},
   "outputs": [
    {
     "data": {
      "text/html": [
       "<div>\n",
       "<style scoped>\n",
       "    .dataframe tbody tr th:only-of-type {\n",
       "        vertical-align: middle;\n",
       "    }\n",
       "\n",
       "    .dataframe tbody tr th {\n",
       "        vertical-align: top;\n",
       "    }\n",
       "\n",
       "    .dataframe thead th {\n",
       "        text-align: right;\n",
       "    }\n",
       "</style>\n",
       "<table border=\"1\" class=\"dataframe\">\n",
       "  <thead>\n",
       "    <tr style=\"text-align: right;\">\n",
       "      <th></th>\n",
       "      <th>ID</th>\n",
       "      <th>IDstudy</th>\n",
       "      <th>plotID</th>\n",
       "      <th>country</th>\n",
       "      <th>region</th>\n",
       "      <th>climate</th>\n",
       "      <th>bedrock</th>\n",
       "      <th>soil_type</th>\n",
       "      <th>temperature_Celsiul</th>\n",
       "      <th>precipitation_mm</th>\n",
       "      <th>...</th>\n",
       "      <th>previous_land_use*</th>\n",
       "      <th>soil_from_cm_previous</th>\n",
       "      <th>soil_to_cm_previous</th>\n",
       "      <th>depth_midpoint_previous</th>\n",
       "      <th>Bulkdensity_previous</th>\n",
       "      <th>%clay_previous</th>\n",
       "      <th>%silt_previous</th>\n",
       "      <th>%sand_previous</th>\n",
       "      <th>ph_previous</th>\n",
       "      <th>SOC_Mg_ha_previous</th>\n",
       "    </tr>\n",
       "  </thead>\n",
       "  <tbody>\n",
       "    <tr>\n",
       "      <th>0</th>\n",
       "      <td>1</td>\n",
       "      <td>1</td>\n",
       "      <td>1</td>\n",
       "      <td>Brazil</td>\n",
       "      <td>SaoPaulo</td>\n",
       "      <td>Tropical</td>\n",
       "      <td>Sandstone</td>\n",
       "      <td>Ferralsols</td>\n",
       "      <td>21.0</td>\n",
       "      <td>1500.0</td>\n",
       "      <td>...</td>\n",
       "      <td>perennial_food</td>\n",
       "      <td>10.000000</td>\n",
       "      <td>30.000000</td>\n",
       "      <td>20.000000</td>\n",
       "      <td>1.450000</td>\n",
       "      <td>21.900000</td>\n",
       "      <td>9.333333</td>\n",
       "      <td>68.766667</td>\n",
       "      <td>NaN</td>\n",
       "      <td>29.446667</td>\n",
       "    </tr>\n",
       "    <tr>\n",
       "      <th>1</th>\n",
       "      <td>5</td>\n",
       "      <td>1</td>\n",
       "      <td>2</td>\n",
       "      <td>Brazil</td>\n",
       "      <td>SaoPaulo</td>\n",
       "      <td>Tropical</td>\n",
       "      <td>Sandstone</td>\n",
       "      <td>Luvisol</td>\n",
       "      <td>21.0</td>\n",
       "      <td>1500.0</td>\n",
       "      <td>...</td>\n",
       "      <td>perennial_food</td>\n",
       "      <td>10.000000</td>\n",
       "      <td>30.000000</td>\n",
       "      <td>20.000000</td>\n",
       "      <td>1.246667</td>\n",
       "      <td>46.800000</td>\n",
       "      <td>10.400000</td>\n",
       "      <td>42.766667</td>\n",
       "      <td>NaN</td>\n",
       "      <td>32.830000</td>\n",
       "    </tr>\n",
       "    <tr>\n",
       "      <th>2</th>\n",
       "      <td>9</td>\n",
       "      <td>1</td>\n",
       "      <td>3</td>\n",
       "      <td>Brazil</td>\n",
       "      <td>SaoPaulo</td>\n",
       "      <td>Tropical</td>\n",
       "      <td>Granite</td>\n",
       "      <td>Ferralsols</td>\n",
       "      <td>21.0</td>\n",
       "      <td>1500.0</td>\n",
       "      <td>...</td>\n",
       "      <td>annual_crop</td>\n",
       "      <td>10.000000</td>\n",
       "      <td>30.000000</td>\n",
       "      <td>20.000000</td>\n",
       "      <td>1.416667</td>\n",
       "      <td>30.366667</td>\n",
       "      <td>8.000000</td>\n",
       "      <td>62.566667</td>\n",
       "      <td>NaN</td>\n",
       "      <td>31.370000</td>\n",
       "    </tr>\n",
       "    <tr>\n",
       "      <th>3</th>\n",
       "      <td>13</td>\n",
       "      <td>1</td>\n",
       "      <td>4</td>\n",
       "      <td>Brazil</td>\n",
       "      <td>SaoPaulo</td>\n",
       "      <td>Tropical</td>\n",
       "      <td>Sandstone</td>\n",
       "      <td>Luvisol</td>\n",
       "      <td>21.0</td>\n",
       "      <td>1500.0</td>\n",
       "      <td>...</td>\n",
       "      <td>grassland</td>\n",
       "      <td>10.000000</td>\n",
       "      <td>30.000000</td>\n",
       "      <td>20.000000</td>\n",
       "      <td>1.396667</td>\n",
       "      <td>11.500000</td>\n",
       "      <td>6.866667</td>\n",
       "      <td>81.633333</td>\n",
       "      <td>NaN</td>\n",
       "      <td>25.270000</td>\n",
       "    </tr>\n",
       "    <tr>\n",
       "      <th>4</th>\n",
       "      <td>26</td>\n",
       "      <td>4</td>\n",
       "      <td>8</td>\n",
       "      <td>New_Zeland</td>\n",
       "      <td>Bay_of_Plenty</td>\n",
       "      <td>Temperate</td>\n",
       "      <td>Volcanic</td>\n",
       "      <td>Mollic_Andosol</td>\n",
       "      <td>14.5</td>\n",
       "      <td>138.0</td>\n",
       "      <td>...</td>\n",
       "      <td>grassland</td>\n",
       "      <td>3.345455</td>\n",
       "      <td>4.163636</td>\n",
       "      <td>3.754545</td>\n",
       "      <td>1.203636</td>\n",
       "      <td>NaN</td>\n",
       "      <td>NaN</td>\n",
       "      <td>NaN</td>\n",
       "      <td>5.72</td>\n",
       "      <td>90.872727</td>\n",
       "    </tr>\n",
       "  </tbody>\n",
       "</table>\n",
       "<p>5 rows × 22 columns</p>\n",
       "</div>"
      ],
      "text/plain": [
       "   ID  IDstudy  plotID     country         region    climate    bedrock  \\\n",
       "0   1        1       1      Brazil       SaoPaulo   Tropical  Sandstone   \n",
       "1   5        1       2      Brazil       SaoPaulo   Tropical  Sandstone   \n",
       "2   9        1       3      Brazil       SaoPaulo   Tropical    Granite   \n",
       "3  13        1       4      Brazil       SaoPaulo   Tropical  Sandstone   \n",
       "4  26        4       8  New_Zeland  Bay_of_Plenty  Temperate   Volcanic   \n",
       "\n",
       "        soil_type  temperature_Celsiul  precipitation_mm  ...  \\\n",
       "0      Ferralsols                 21.0            1500.0  ...   \n",
       "1         Luvisol                 21.0            1500.0  ...   \n",
       "2      Ferralsols                 21.0            1500.0  ...   \n",
       "3         Luvisol                 21.0            1500.0  ...   \n",
       "4  Mollic_Andosol                 14.5             138.0  ...   \n",
       "\n",
       "   previous_land_use*  soil_from_cm_previous soil_to_cm_previous  \\\n",
       "0      perennial_food              10.000000           30.000000   \n",
       "1      perennial_food              10.000000           30.000000   \n",
       "2         annual_crop              10.000000           30.000000   \n",
       "3           grassland              10.000000           30.000000   \n",
       "4           grassland               3.345455            4.163636   \n",
       "\n",
       "   depth_midpoint_previous  Bulkdensity_previous  %clay_previous  \\\n",
       "0                20.000000              1.450000       21.900000   \n",
       "1                20.000000              1.246667       46.800000   \n",
       "2                20.000000              1.416667       30.366667   \n",
       "3                20.000000              1.396667       11.500000   \n",
       "4                 3.754545              1.203636             NaN   \n",
       "\n",
       "   %silt_previous  %sand_previous  ph_previous  SOC_Mg_ha_previous  \n",
       "0        9.333333       68.766667          NaN           29.446667  \n",
       "1       10.400000       42.766667          NaN           32.830000  \n",
       "2        8.000000       62.566667          NaN           31.370000  \n",
       "3        6.866667       81.633333          NaN           25.270000  \n",
       "4             NaN             NaN         5.72           90.872727  \n",
       "\n",
       "[5 rows x 22 columns]"
      ]
     },
     "execution_count": 71,
     "metadata": {},
     "output_type": "execute_result"
    }
   ],
   "source": [
    "#Create separate dataframes for current and previous SOC measurements\n",
    "df_current = df[constant_vars + current_vars]\n",
    "\n",
    "df_previous = df[constant_vars + previous_vars]\n",
    "\n",
    "#Check the first few rows of the current SOC dataframe\n",
    "df_current.head()\n",
    "\n",
    "#Check the first few rows of the previous SOC dataframe\n",
    "df_previous.head()\n"
   ]
  },
  {
   "cell_type": "code",
   "execution_count": 72,
   "metadata": {},
   "outputs": [
    {
     "data": {
      "text/plain": [
       "Index(['ID', 'IDstudy', 'plotID', 'country', 'region', 'climate', 'bedrock',\n",
       "       'soil_type', 'temperature_Celsiul', 'precipitation_mm', 'Latitud',\n",
       "       'Longitud', 'year_measure', 'TYPE_CHANGE', 'years_since_luc',\n",
       "       'CROP_current', 'CROP_type', 'current_land_use*',\n",
       "       'N_measured_current.1', 'soil_from_cm_current', 'soil_to_cm_current',\n",
       "       'depth_midpoint_current', 'bulk_density_Mg_m3_current', '%clay_current',\n",
       "       '%silt_current', '%sand_current', 'ph_current', 'SOC_Mg_ha_current'],\n",
       "      dtype='object')"
      ]
     },
     "execution_count": 72,
     "metadata": {},
     "output_type": "execute_result"
    }
   ],
   "source": [
    "df_current.columns\n"
   ]
  },
  {
   "cell_type": "code",
   "execution_count": 73,
   "metadata": {},
   "outputs": [
    {
     "data": {
      "text/plain": [
       "Index(['ID', 'IDstudy', 'plotID', 'country', 'region', 'climate', 'bedrock',\n",
       "       'soil_type', 'temperature_Celsiul', 'precipitation_mm', 'Latitud',\n",
       "       'Longitud', 'previous_land_use*', 'soil_from_cm_previous',\n",
       "       'soil_to_cm_previous', 'depth_midpoint_previous',\n",
       "       'Bulkdensity_previous', '%clay_previous', '%silt_previous',\n",
       "       '%sand_previous', 'ph_previous', 'SOC_Mg_ha_previous'],\n",
       "      dtype='object')"
      ]
     },
     "execution_count": 73,
     "metadata": {},
     "output_type": "execute_result"
    }
   ],
   "source": [
    "df_previous.columns"
   ]
  },
  {
   "cell_type": "code",
   "execution_count": 74,
   "metadata": {},
   "outputs": [
    {
     "name": "stdout",
     "output_type": "stream",
     "text": [
      "   ID  IDstudy  plotID     country         region    climate    bedrock  \\\n",
      "0   1        1       1      Brazil       SaoPaulo   Tropical  Sandstone   \n",
      "1   5        1       2      Brazil       SaoPaulo   Tropical  Sandstone   \n",
      "2   9        1       3      Brazil       SaoPaulo   Tropical    Granite   \n",
      "3  13        1       4      Brazil       SaoPaulo   Tropical  Sandstone   \n",
      "4  26        4       8  New_Zeland  Bay_of_Plenty  Temperate   Volcanic   \n",
      "\n",
      "        soil_type  temperature  precipitation_mm  ...  soil_from_cm  \\\n",
      "0      Ferralsols         21.0            1500.0  ...     10.000000   \n",
      "1         Luvisol         21.0            1500.0  ...     10.000000   \n",
      "2      Ferralsols         21.0            1500.0  ...     10.000000   \n",
      "3         Luvisol         21.0            1500.0  ...     10.000000   \n",
      "4  Mollic_Andosol         14.5             138.0  ...      3.345455   \n",
      "\n",
      "   soil_to_cm  depth_midpoint bulk_density_Mg_m3      %clay      %silt  \\\n",
      "0   30.000000       20.000000           1.396667  15.500000   2.733333   \n",
      "1   30.000000       20.000000           1.280000  41.800000  10.533333   \n",
      "2   30.000000       20.000000           1.336667  29.600000   5.300000   \n",
      "3   30.000000       20.000000           1.400000  13.033333   8.333333   \n",
      "4    4.163636        3.754545           1.090909        NaN        NaN   \n",
      "\n",
      "       %sand   ph  SOC_Mg_ha  Period  \n",
      "0  81.800000  NaN  21.386667       1  \n",
      "1  47.666667  NaN  24.546667       1  \n",
      "2  65.100000  NaN  30.906667       1  \n",
      "3  78.633333  NaN  19.960000       1  \n",
      "4        NaN  6.0  90.881818       1  \n",
      "\n",
      "[5 rows x 29 columns]\n"
     ]
    },
    {
     "name": "stderr",
     "output_type": "stream",
     "text": [
      "C:\\Users\\defrang\\AppData\\Local\\Temp\\ipykernel_25444\\2965850342.py:16: SettingWithCopyWarning: \n",
      "A value is trying to be set on a copy of a slice from a DataFrame.\n",
      "Try using .loc[row_indexer,col_indexer] = value instead\n",
      "\n",
      "See the caveats in the documentation: https://pandas.pydata.org/pandas-docs/stable/user_guide/indexing.html#returning-a-view-versus-a-copy\n",
      "  df_current ['Period'] = '1'\n",
      "C:\\Users\\defrang\\AppData\\Local\\Temp\\ipykernel_25444\\2965850342.py:17: SettingWithCopyWarning: \n",
      "A value is trying to be set on a copy of a slice from a DataFrame.\n",
      "Try using .loc[row_indexer,col_indexer] = value instead\n",
      "\n",
      "See the caveats in the documentation: https://pandas.pydata.org/pandas-docs/stable/user_guide/indexing.html#returning-a-view-versus-a-copy\n",
      "  df_previous ['Period'] = '0'\n"
     ]
    }
   ],
   "source": [
    "# Rename columns for clarity\n",
    "df_current.columns = ['ID', 'IDstudy', 'plotID', 'country', 'region', 'climate', 'bedrock', 'soil_type', \n",
    "                       'temperature', 'precipitation_mm', 'Latitud', 'Longitud', 'year_measure', \n",
    "                        'TYPE_CHANGE', 'years_since_luc', 'CROP_current', 'CROP_type', 'land_use',\n",
    "                        'N_measured', 'soil_from_cm', 'soil_to_cm', 'depth_midpoint', 'bulk_density_Mg_m3',\n",
    "                        '%clay', '%silt', '%sand', 'ph', 'SOC_Mg_ha']\n",
    "                           \n",
    "                      \n",
    "df_previous.columns = ['ID', 'IDstudy', 'plotID', 'country', 'region', 'climate', 'bedrock', 'soil_type', \n",
    "                       'temperature', 'precipitation_mm', 'Latitud', 'Longitud', 'land_use',\n",
    "                        'soil_from_cm', 'soil_to_cm', 'depth_midpoint', 'bulk_density_Mg_m3', \n",
    "                        '%clay','%silt', '%sand', 'ph', 'SOC_Mg_ha',]                      \n",
    "                       \n",
    "\n",
    "# Add a column to indicate current vs previous\n",
    "df_current ['Period'] = '1'\n",
    "df_previous ['Period'] = '0'\n",
    "\n",
    "# Concatenate the dataframes\n",
    "combined_df = pd.concat([df_current, df_previous])\n",
    "\n",
    "# Drop rows with NaN SOC_Mg_ha\n",
    "combined_df.dropna(subset=['SOC_Mg_ha'], inplace=True)\n",
    "\n",
    "\n",
    "print(combined_df.head())"
   ]
  },
  {
   "cell_type": "code",
   "execution_count": 91,
   "metadata": {},
   "outputs": [
    {
     "data": {
      "text/html": [
       "<div>\n",
       "<style scoped>\n",
       "    .dataframe tbody tr th:only-of-type {\n",
       "        vertical-align: middle;\n",
       "    }\n",
       "\n",
       "    .dataframe tbody tr th {\n",
       "        vertical-align: top;\n",
       "    }\n",
       "\n",
       "    .dataframe thead th {\n",
       "        text-align: right;\n",
       "    }\n",
       "</style>\n",
       "<table border=\"1\" class=\"dataframe\">\n",
       "  <thead>\n",
       "    <tr style=\"text-align: right;\">\n",
       "      <th></th>\n",
       "      <th>ID</th>\n",
       "      <th>IDstudy</th>\n",
       "      <th>plotID</th>\n",
       "      <th>country</th>\n",
       "      <th>region</th>\n",
       "      <th>climate</th>\n",
       "      <th>bedrock</th>\n",
       "      <th>soil_type</th>\n",
       "      <th>temperature</th>\n",
       "      <th>precipitation_mm</th>\n",
       "      <th>...</th>\n",
       "      <th>soil_from_cm</th>\n",
       "      <th>soil_to_cm</th>\n",
       "      <th>depth_midpoint</th>\n",
       "      <th>bulk_density_Mg_m3</th>\n",
       "      <th>%clay</th>\n",
       "      <th>%silt</th>\n",
       "      <th>%sand</th>\n",
       "      <th>ph</th>\n",
       "      <th>SOC_Mg_ha</th>\n",
       "      <th>Period</th>\n",
       "    </tr>\n",
       "  </thead>\n",
       "  <tbody>\n",
       "    <tr>\n",
       "      <th>15</th>\n",
       "      <td>112</td>\n",
       "      <td>8</td>\n",
       "      <td>25</td>\n",
       "      <td>Germany</td>\n",
       "      <td>Kenner_Flur</td>\n",
       "      <td>Temperate</td>\n",
       "      <td>NaN</td>\n",
       "      <td>Haplic_Cambisols_Fluvisols_stagnic_Luvisols</td>\n",
       "      <td>9.3</td>\n",
       "      <td>719.0</td>\n",
       "      <td>...</td>\n",
       "      <td>13.333333</td>\n",
       "      <td>21.666667</td>\n",
       "      <td>17.5</td>\n",
       "      <td>NaN</td>\n",
       "      <td>13.433333</td>\n",
       "      <td>26.1</td>\n",
       "      <td>60.466667</td>\n",
       "      <td>5.746667</td>\n",
       "      <td>8.171667</td>\n",
       "      <td>0</td>\n",
       "    </tr>\n",
       "    <tr>\n",
       "      <th>16</th>\n",
       "      <td>120</td>\n",
       "      <td>8</td>\n",
       "      <td>26</td>\n",
       "      <td>Germany</td>\n",
       "      <td>Kenner_Flur</td>\n",
       "      <td>Temperate</td>\n",
       "      <td>NaN</td>\n",
       "      <td>Haplic_Cambisols_Fluvisols_stagnic_Luvisols</td>\n",
       "      <td>9.3</td>\n",
       "      <td>719.0</td>\n",
       "      <td>...</td>\n",
       "      <td>13.333333</td>\n",
       "      <td>21.666667</td>\n",
       "      <td>17.5</td>\n",
       "      <td>NaN</td>\n",
       "      <td>13.433333</td>\n",
       "      <td>26.1</td>\n",
       "      <td>60.466667</td>\n",
       "      <td>5.746667</td>\n",
       "      <td>8.171667</td>\n",
       "      <td>0</td>\n",
       "    </tr>\n",
       "    <tr>\n",
       "      <th>17</th>\n",
       "      <td>128</td>\n",
       "      <td>8</td>\n",
       "      <td>27</td>\n",
       "      <td>Germany</td>\n",
       "      <td>Kenner_Flur</td>\n",
       "      <td>Temperate</td>\n",
       "      <td>NaN</td>\n",
       "      <td>Haplic_Cambisols_Fluvisols_stagnic_Luvisols</td>\n",
       "      <td>9.3</td>\n",
       "      <td>719.0</td>\n",
       "      <td>...</td>\n",
       "      <td>13.333333</td>\n",
       "      <td>21.666667</td>\n",
       "      <td>17.5</td>\n",
       "      <td>NaN</td>\n",
       "      <td>13.433333</td>\n",
       "      <td>26.1</td>\n",
       "      <td>60.466667</td>\n",
       "      <td>5.746667</td>\n",
       "      <td>8.171667</td>\n",
       "      <td>0</td>\n",
       "    </tr>\n",
       "    <tr>\n",
       "      <th>18</th>\n",
       "      <td>136</td>\n",
       "      <td>8</td>\n",
       "      <td>28</td>\n",
       "      <td>Germany</td>\n",
       "      <td>Kenner_Flur</td>\n",
       "      <td>Temperate</td>\n",
       "      <td>NaN</td>\n",
       "      <td>Haplic_Cambisols_Fluvisols_stagnic_Luvisols</td>\n",
       "      <td>9.3</td>\n",
       "      <td>719.0</td>\n",
       "      <td>...</td>\n",
       "      <td>13.333333</td>\n",
       "      <td>21.666667</td>\n",
       "      <td>17.5</td>\n",
       "      <td>NaN</td>\n",
       "      <td>13.433333</td>\n",
       "      <td>26.1</td>\n",
       "      <td>60.466667</td>\n",
       "      <td>5.746667</td>\n",
       "      <td>8.171667</td>\n",
       "      <td>0</td>\n",
       "    </tr>\n",
       "    <tr>\n",
       "      <th>19</th>\n",
       "      <td>144</td>\n",
       "      <td>8</td>\n",
       "      <td>29</td>\n",
       "      <td>Germany</td>\n",
       "      <td>Kenner_Flur</td>\n",
       "      <td>Temperate</td>\n",
       "      <td>NaN</td>\n",
       "      <td>Haplic_Cambisols_Fluvisols_stagnic_Luvisols</td>\n",
       "      <td>9.3</td>\n",
       "      <td>719.0</td>\n",
       "      <td>...</td>\n",
       "      <td>13.333333</td>\n",
       "      <td>21.666667</td>\n",
       "      <td>17.5</td>\n",
       "      <td>NaN</td>\n",
       "      <td>13.433333</td>\n",
       "      <td>26.1</td>\n",
       "      <td>60.466667</td>\n",
       "      <td>5.746667</td>\n",
       "      <td>8.171667</td>\n",
       "      <td>0</td>\n",
       "    </tr>\n",
       "    <tr>\n",
       "      <th>...</th>\n",
       "      <td>...</td>\n",
       "      <td>...</td>\n",
       "      <td>...</td>\n",
       "      <td>...</td>\n",
       "      <td>...</td>\n",
       "      <td>...</td>\n",
       "      <td>...</td>\n",
       "      <td>...</td>\n",
       "      <td>...</td>\n",
       "      <td>...</td>\n",
       "      <td>...</td>\n",
       "      <td>...</td>\n",
       "      <td>...</td>\n",
       "      <td>...</td>\n",
       "      <td>...</td>\n",
       "      <td>...</td>\n",
       "      <td>...</td>\n",
       "      <td>...</td>\n",
       "      <td>...</td>\n",
       "      <td>...</td>\n",
       "      <td>...</td>\n",
       "    </tr>\n",
       "    <tr>\n",
       "      <th>356</th>\n",
       "      <td>1317</td>\n",
       "      <td>148</td>\n",
       "      <td>586</td>\n",
       "      <td>Sweden</td>\n",
       "      <td>Lovanger</td>\n",
       "      <td>Boreal</td>\n",
       "      <td>NaN</td>\n",
       "      <td>Silt_loam</td>\n",
       "      <td>3.0</td>\n",
       "      <td>620.0</td>\n",
       "      <td>...</td>\n",
       "      <td>0.000000</td>\n",
       "      <td>30.000000</td>\n",
       "      <td>15.0</td>\n",
       "      <td>NaN</td>\n",
       "      <td>NaN</td>\n",
       "      <td>NaN</td>\n",
       "      <td>NaN</td>\n",
       "      <td>NaN</td>\n",
       "      <td>157.000000</td>\n",
       "      <td>0</td>\n",
       "    </tr>\n",
       "    <tr>\n",
       "      <th>357</th>\n",
       "      <td>1318</td>\n",
       "      <td>148</td>\n",
       "      <td>587</td>\n",
       "      <td>Sweden</td>\n",
       "      <td>Bjasta</td>\n",
       "      <td>Boreal</td>\n",
       "      <td>NaN</td>\n",
       "      <td>Silt_loam</td>\n",
       "      <td>3.0</td>\n",
       "      <td>638.0</td>\n",
       "      <td>...</td>\n",
       "      <td>0.000000</td>\n",
       "      <td>30.000000</td>\n",
       "      <td>15.0</td>\n",
       "      <td>NaN</td>\n",
       "      <td>NaN</td>\n",
       "      <td>NaN</td>\n",
       "      <td>NaN</td>\n",
       "      <td>NaN</td>\n",
       "      <td>92.000000</td>\n",
       "      <td>0</td>\n",
       "    </tr>\n",
       "    <tr>\n",
       "      <th>358</th>\n",
       "      <td>1319</td>\n",
       "      <td>148</td>\n",
       "      <td>588</td>\n",
       "      <td>Sweden</td>\n",
       "      <td>Nykoping</td>\n",
       "      <td>Boreal</td>\n",
       "      <td>NaN</td>\n",
       "      <td>Clay_loam</td>\n",
       "      <td>6.0</td>\n",
       "      <td>556.0</td>\n",
       "      <td>...</td>\n",
       "      <td>0.000000</td>\n",
       "      <td>30.000000</td>\n",
       "      <td>15.0</td>\n",
       "      <td>NaN</td>\n",
       "      <td>NaN</td>\n",
       "      <td>NaN</td>\n",
       "      <td>NaN</td>\n",
       "      <td>NaN</td>\n",
       "      <td>61.000000</td>\n",
       "      <td>0</td>\n",
       "    </tr>\n",
       "    <tr>\n",
       "      <th>359</th>\n",
       "      <td>1320</td>\n",
       "      <td>148</td>\n",
       "      <td>589</td>\n",
       "      <td>Sweden</td>\n",
       "      <td>Langhem</td>\n",
       "      <td>Boreal</td>\n",
       "      <td>NaN</td>\n",
       "      <td>loam</td>\n",
       "      <td>6.0</td>\n",
       "      <td>896.0</td>\n",
       "      <td>...</td>\n",
       "      <td>0.000000</td>\n",
       "      <td>30.000000</td>\n",
       "      <td>15.0</td>\n",
       "      <td>NaN</td>\n",
       "      <td>NaN</td>\n",
       "      <td>NaN</td>\n",
       "      <td>NaN</td>\n",
       "      <td>NaN</td>\n",
       "      <td>102.000000</td>\n",
       "      <td>0</td>\n",
       "    </tr>\n",
       "    <tr>\n",
       "      <th>360</th>\n",
       "      <td>1321</td>\n",
       "      <td>148</td>\n",
       "      <td>590</td>\n",
       "      <td>Sweden</td>\n",
       "      <td>Svalov</td>\n",
       "      <td>Boreal</td>\n",
       "      <td>NaN</td>\n",
       "      <td>Silt_clay</td>\n",
       "      <td>7.0</td>\n",
       "      <td>790.0</td>\n",
       "      <td>...</td>\n",
       "      <td>0.000000</td>\n",
       "      <td>30.000000</td>\n",
       "      <td>15.0</td>\n",
       "      <td>NaN</td>\n",
       "      <td>NaN</td>\n",
       "      <td>NaN</td>\n",
       "      <td>NaN</td>\n",
       "      <td>NaN</td>\n",
       "      <td>91.000000</td>\n",
       "      <td>0</td>\n",
       "    </tr>\n",
       "  </tbody>\n",
       "</table>\n",
       "<p>101 rows × 29 columns</p>\n",
       "</div>"
      ],
      "text/plain": [
       "       ID  IDstudy  plotID  country       region    climate bedrock  \\\n",
       "15    112        8      25  Germany  Kenner_Flur  Temperate     NaN   \n",
       "16    120        8      26  Germany  Kenner_Flur  Temperate     NaN   \n",
       "17    128        8      27  Germany  Kenner_Flur  Temperate     NaN   \n",
       "18    136        8      28  Germany  Kenner_Flur  Temperate     NaN   \n",
       "19    144        8      29  Germany  Kenner_Flur  Temperate     NaN   \n",
       "..    ...      ...     ...      ...          ...        ...     ...   \n",
       "356  1317      148     586   Sweden     Lovanger     Boreal     NaN   \n",
       "357  1318      148     587   Sweden       Bjasta     Boreal     NaN   \n",
       "358  1319      148     588   Sweden     Nykoping     Boreal     NaN   \n",
       "359  1320      148     589   Sweden      Langhem     Boreal     NaN   \n",
       "360  1321      148     590   Sweden       Svalov     Boreal     NaN   \n",
       "\n",
       "                                       soil_type  temperature  \\\n",
       "15   Haplic_Cambisols_Fluvisols_stagnic_Luvisols          9.3   \n",
       "16   Haplic_Cambisols_Fluvisols_stagnic_Luvisols          9.3   \n",
       "17   Haplic_Cambisols_Fluvisols_stagnic_Luvisols          9.3   \n",
       "18   Haplic_Cambisols_Fluvisols_stagnic_Luvisols          9.3   \n",
       "19   Haplic_Cambisols_Fluvisols_stagnic_Luvisols          9.3   \n",
       "..                                           ...          ...   \n",
       "356                                    Silt_loam          3.0   \n",
       "357                                    Silt_loam          3.0   \n",
       "358                                    Clay_loam          6.0   \n",
       "359                                         loam          6.0   \n",
       "360                                    Silt_clay          7.0   \n",
       "\n",
       "     precipitation_mm  ...  soil_from_cm  soil_to_cm  depth_midpoint  \\\n",
       "15              719.0  ...     13.333333   21.666667            17.5   \n",
       "16              719.0  ...     13.333333   21.666667            17.5   \n",
       "17              719.0  ...     13.333333   21.666667            17.5   \n",
       "18              719.0  ...     13.333333   21.666667            17.5   \n",
       "19              719.0  ...     13.333333   21.666667            17.5   \n",
       "..                ...  ...           ...         ...             ...   \n",
       "356             620.0  ...      0.000000   30.000000            15.0   \n",
       "357             638.0  ...      0.000000   30.000000            15.0   \n",
       "358             556.0  ...      0.000000   30.000000            15.0   \n",
       "359             896.0  ...      0.000000   30.000000            15.0   \n",
       "360             790.0  ...      0.000000   30.000000            15.0   \n",
       "\n",
       "    bulk_density_Mg_m3      %clay %silt      %sand        ph   SOC_Mg_ha  \\\n",
       "15                 NaN  13.433333  26.1  60.466667  5.746667    8.171667   \n",
       "16                 NaN  13.433333  26.1  60.466667  5.746667    8.171667   \n",
       "17                 NaN  13.433333  26.1  60.466667  5.746667    8.171667   \n",
       "18                 NaN  13.433333  26.1  60.466667  5.746667    8.171667   \n",
       "19                 NaN  13.433333  26.1  60.466667  5.746667    8.171667   \n",
       "..                 ...        ...   ...        ...       ...         ...   \n",
       "356                NaN        NaN   NaN        NaN       NaN  157.000000   \n",
       "357                NaN        NaN   NaN        NaN       NaN   92.000000   \n",
       "358                NaN        NaN   NaN        NaN       NaN   61.000000   \n",
       "359                NaN        NaN   NaN        NaN       NaN  102.000000   \n",
       "360                NaN        NaN   NaN        NaN       NaN   91.000000   \n",
       "\n",
       "     Period  \n",
       "15        0  \n",
       "16        0  \n",
       "17        0  \n",
       "18        0  \n",
       "19        0  \n",
       "..      ...  \n",
       "356       0  \n",
       "357       0  \n",
       "358       0  \n",
       "359       0  \n",
       "360       0  \n",
       "\n",
       "[101 rows x 29 columns]"
      ]
     },
     "execution_count": 91,
     "metadata": {},
     "output_type": "execute_result"
    }
   ],
   "source": [
    "#Make a new dataframe called df_luc that replaces 'bioenergy', 'food', 'bioproduct', and 'livestockfood' with 'perrenial_crop'\n",
    "\n",
    "df_luc_clean = combined_df.copy()\n",
    "\n",
    "df_luc_clean['land_use'] = df_luc_clean['land_use'].apply(lambda x: 'perennial_crop' if x in ['bioenergy', 'food', 'bioproduct', 'livestockfood'] else x)\n",
    "\n",
    "\n",
    "df_luc_clean['land_use'] = df_luc_clean.apply(lambda x: 'perennial_' + x['CROP_type'] if x['land_use'] == 'perennial_crop' else x['land_use'], axis=1)\n",
    "\n",
    "#Remove perennial_food from the dataset because we don't know the crop type so we don't know how to compare LUC where it was perennial_crop before and a different perennial crop now\n",
    "\n",
    "df_luc_clean = df_luc_clean[df_luc_clean['land_use'] != 'perennial_food']\n",
    "\n",
    "#Check the unique values of land_use\n",
    "df_luc_clean['land_use'].unique()\n",
    "\n",
    "#Print all the rows where land_use is nan\n",
    "df_luc_clean[df_luc_clean['land_use'].isnull()]\n"
   ]
  },
  {
   "cell_type": "code",
   "execution_count": 93,
   "metadata": {},
   "outputs": [
    {
     "data": {
      "text/html": [
       "<div>\n",
       "<style scoped>\n",
       "    .dataframe tbody tr th:only-of-type {\n",
       "        vertical-align: middle;\n",
       "    }\n",
       "\n",
       "    .dataframe tbody tr th {\n",
       "        vertical-align: top;\n",
       "    }\n",
       "\n",
       "    .dataframe thead th {\n",
       "        text-align: right;\n",
       "    }\n",
       "</style>\n",
       "<table border=\"1\" class=\"dataframe\">\n",
       "  <thead>\n",
       "    <tr style=\"text-align: right;\">\n",
       "      <th></th>\n",
       "      <th>ID</th>\n",
       "      <th>IDstudy</th>\n",
       "      <th>plotID</th>\n",
       "      <th>country</th>\n",
       "      <th>region</th>\n",
       "      <th>climate</th>\n",
       "      <th>bedrock</th>\n",
       "      <th>soil_type</th>\n",
       "      <th>temperature</th>\n",
       "      <th>precipitation_mm</th>\n",
       "      <th>...</th>\n",
       "      <th>soil_to_cm</th>\n",
       "      <th>depth_midpoint</th>\n",
       "      <th>bulk_density_Mg_m3</th>\n",
       "      <th>%clay</th>\n",
       "      <th>%silt</th>\n",
       "      <th>%sand</th>\n",
       "      <th>ph</th>\n",
       "      <th>SOC_Mg_ha</th>\n",
       "      <th>Period</th>\n",
       "      <th>csp_rank</th>\n",
       "    </tr>\n",
       "  </thead>\n",
       "  <tbody>\n",
       "    <tr>\n",
       "      <th>0</th>\n",
       "      <td>1</td>\n",
       "      <td>1</td>\n",
       "      <td>1</td>\n",
       "      <td>Brazil</td>\n",
       "      <td>SaoPaulo</td>\n",
       "      <td>Tropical</td>\n",
       "      <td>Sandstone</td>\n",
       "      <td>Ferralsols</td>\n",
       "      <td>21.0</td>\n",
       "      <td>1500.0</td>\n",
       "      <td>...</td>\n",
       "      <td>30.000000</td>\n",
       "      <td>20.000000</td>\n",
       "      <td>1.396667</td>\n",
       "      <td>15.500000</td>\n",
       "      <td>2.733333</td>\n",
       "      <td>81.800000</td>\n",
       "      <td>NaN</td>\n",
       "      <td>21.386667</td>\n",
       "      <td>1</td>\n",
       "      <td>2.0</td>\n",
       "    </tr>\n",
       "    <tr>\n",
       "      <th>1</th>\n",
       "      <td>5</td>\n",
       "      <td>1</td>\n",
       "      <td>2</td>\n",
       "      <td>Brazil</td>\n",
       "      <td>SaoPaulo</td>\n",
       "      <td>Tropical</td>\n",
       "      <td>Sandstone</td>\n",
       "      <td>Luvisol</td>\n",
       "      <td>21.0</td>\n",
       "      <td>1500.0</td>\n",
       "      <td>...</td>\n",
       "      <td>30.000000</td>\n",
       "      <td>20.000000</td>\n",
       "      <td>1.280000</td>\n",
       "      <td>41.800000</td>\n",
       "      <td>10.533333</td>\n",
       "      <td>47.666667</td>\n",
       "      <td>NaN</td>\n",
       "      <td>24.546667</td>\n",
       "      <td>1</td>\n",
       "      <td>2.0</td>\n",
       "    </tr>\n",
       "    <tr>\n",
       "      <th>2</th>\n",
       "      <td>9</td>\n",
       "      <td>1</td>\n",
       "      <td>3</td>\n",
       "      <td>Brazil</td>\n",
       "      <td>SaoPaulo</td>\n",
       "      <td>Tropical</td>\n",
       "      <td>Granite</td>\n",
       "      <td>Ferralsols</td>\n",
       "      <td>21.0</td>\n",
       "      <td>1500.0</td>\n",
       "      <td>...</td>\n",
       "      <td>30.000000</td>\n",
       "      <td>20.000000</td>\n",
       "      <td>1.336667</td>\n",
       "      <td>29.600000</td>\n",
       "      <td>5.300000</td>\n",
       "      <td>65.100000</td>\n",
       "      <td>NaN</td>\n",
       "      <td>30.906667</td>\n",
       "      <td>1</td>\n",
       "      <td>2.0</td>\n",
       "    </tr>\n",
       "    <tr>\n",
       "      <th>3</th>\n",
       "      <td>13</td>\n",
       "      <td>1</td>\n",
       "      <td>4</td>\n",
       "      <td>Brazil</td>\n",
       "      <td>SaoPaulo</td>\n",
       "      <td>Tropical</td>\n",
       "      <td>Sandstone</td>\n",
       "      <td>Luvisol</td>\n",
       "      <td>21.0</td>\n",
       "      <td>1500.0</td>\n",
       "      <td>...</td>\n",
       "      <td>30.000000</td>\n",
       "      <td>20.000000</td>\n",
       "      <td>1.400000</td>\n",
       "      <td>13.033333</td>\n",
       "      <td>8.333333</td>\n",
       "      <td>78.633333</td>\n",
       "      <td>NaN</td>\n",
       "      <td>19.960000</td>\n",
       "      <td>1</td>\n",
       "      <td>2.0</td>\n",
       "    </tr>\n",
       "    <tr>\n",
       "      <th>4</th>\n",
       "      <td>26</td>\n",
       "      <td>4</td>\n",
       "      <td>8</td>\n",
       "      <td>New_Zeland</td>\n",
       "      <td>Bay_of_Plenty</td>\n",
       "      <td>Temperate</td>\n",
       "      <td>Volcanic</td>\n",
       "      <td>Mollic_Andosol</td>\n",
       "      <td>14.5</td>\n",
       "      <td>138.0</td>\n",
       "      <td>...</td>\n",
       "      <td>4.163636</td>\n",
       "      <td>3.754545</td>\n",
       "      <td>1.090909</td>\n",
       "      <td>NaN</td>\n",
       "      <td>NaN</td>\n",
       "      <td>NaN</td>\n",
       "      <td>6.0</td>\n",
       "      <td>90.881818</td>\n",
       "      <td>1</td>\n",
       "      <td>2.0</td>\n",
       "    </tr>\n",
       "  </tbody>\n",
       "</table>\n",
       "<p>5 rows × 30 columns</p>\n",
       "</div>"
      ],
      "text/plain": [
       "   ID  IDstudy  plotID     country         region    climate    bedrock  \\\n",
       "0   1        1       1      Brazil       SaoPaulo   Tropical  Sandstone   \n",
       "1   5        1       2      Brazil       SaoPaulo   Tropical  Sandstone   \n",
       "2   9        1       3      Brazil       SaoPaulo   Tropical    Granite   \n",
       "3  13        1       4      Brazil       SaoPaulo   Tropical  Sandstone   \n",
       "4  26        4       8  New_Zeland  Bay_of_Plenty  Temperate   Volcanic   \n",
       "\n",
       "        soil_type  temperature  precipitation_mm  ...  soil_to_cm  \\\n",
       "0      Ferralsols         21.0            1500.0  ...   30.000000   \n",
       "1         Luvisol         21.0            1500.0  ...   30.000000   \n",
       "2      Ferralsols         21.0            1500.0  ...   30.000000   \n",
       "3         Luvisol         21.0            1500.0  ...   30.000000   \n",
       "4  Mollic_Andosol         14.5             138.0  ...    4.163636   \n",
       "\n",
       "   depth_midpoint  bulk_density_Mg_m3      %clay      %silt      %sand   ph  \\\n",
       "0       20.000000            1.396667  15.500000   2.733333  81.800000  NaN   \n",
       "1       20.000000            1.280000  41.800000  10.533333  47.666667  NaN   \n",
       "2       20.000000            1.336667  29.600000   5.300000  65.100000  NaN   \n",
       "3       20.000000            1.400000  13.033333   8.333333  78.633333  NaN   \n",
       "4        3.754545            1.090909        NaN        NaN        NaN  6.0   \n",
       "\n",
       "   SOC_Mg_ha  Period  csp_rank  \n",
       "0  21.386667       1       2.0  \n",
       "1  24.546667       1       2.0  \n",
       "2  30.906667       1       2.0  \n",
       "3  19.960000       1       2.0  \n",
       "4  90.881818       1       2.0  \n",
       "\n",
       "[5 rows x 30 columns]"
      ]
     },
     "execution_count": 93,
     "metadata": {},
     "output_type": "execute_result"
    }
   ],
   "source": [
    "def categorize_land_use(land_use):\n",
    "        return land_use\n",
    "\n",
    "# Create the dictionary with categorized land use types and their indices (CSP and BI combined)\n",
    "land_use_indices = {\n",
    "    categorize_land_use('perennial_woody'): (2, 2),\n",
    "    categorize_land_use('fallow'): (1, 2),\n",
    "    categorize_land_use('secondary_forest'): (4, 4),\n",
    "    categorize_land_use('grassland'): (3, 3),\n",
    "    categorize_land_use('natural_forest'): (5, 5),\n",
    "    categorize_land_use('agrofor'): (3, 4),\n",
    "    categorize_land_use('perennial_grass'): (2, 2),\n",
    "    categorize_land_use('perennial_palm'): (2, 2),\n",
    "    categorize_land_use('annual_crop'): (1, 1),\n",
    "    categorize_land_use('SRC'): (3,2)\n",
    "}\n",
    "\n",
    "csp_ranks = {\n",
    "            categorize_land_use('perennial_woody'): 2,\n",
    "            categorize_land_use('fallow'): 1,\n",
    "            categorize_land_use('secondary_forest'): 4,\n",
    "            categorize_land_use('grassland'): 3,\n",
    "            categorize_land_use('natural_forest'): 5,\n",
    "            categorize_land_use('agrofor'): 3,\n",
    "            categorize_land_use('perennial_grass'): 2,\n",
    "            categorize_land_use('perennial_palm'): 2,\n",
    "            categorize_land_use('annual_crop'): 1,\n",
    "            categorize_land_use('SRC'): 3\n",
    "}\n",
    "\n",
    "\n",
    "# Add a column called 'csp_rank' to the dataframe that ranks the land use types only for land_use types that are non-null\n",
    "\n",
    "df_luc_clean['csp_rank'] = df_luc_clean['land_use'].apply(lambda x: csp_ranks[x] if x in csp_ranks.keys() else np.nan)\n",
    "\n",
    "df_luc_clean.head()\n",
    "\n"
   ]
  },
  {
   "cell_type": "code",
   "execution_count": 96,
   "metadata": {},
   "outputs": [
    {
     "name": "stdout",
     "output_type": "stream",
     "text": [
      "   ID  IDstudy  plotID country    region   climate    bedrock   soil_type  \\\n",
      "0   1        1       1  Brazil  SaoPaulo  Tropical  Sandstone  Ferralsols   \n",
      "1   5        1       2  Brazil  SaoPaulo  Tropical  Sandstone     Luvisol   \n",
      "2   9        1       3  Brazil  SaoPaulo  Tropical    Granite  Ferralsols   \n",
      "2   9        1       3  Brazil  SaoPaulo  Tropical    Granite  Ferralsols   \n",
      "3  13        1       4  Brazil  SaoPaulo  Tropical  Sandstone     Luvisol   \n",
      "\n",
      "   temperature  precipitation_mm  ...  soil_to_cm  depth_midpoint  \\\n",
      "0         21.0            1500.0  ...        30.0            20.0   \n",
      "1         21.0            1500.0  ...        30.0            20.0   \n",
      "2         21.0            1500.0  ...        30.0            20.0   \n",
      "2         21.0            1500.0  ...        30.0            20.0   \n",
      "3         21.0            1500.0  ...        30.0            20.0   \n",
      "\n",
      "   bulk_density_Mg_m3      %clay      %silt      %sand  ph  SOC_Mg_ha  Period  \\\n",
      "0            1.396667  15.500000   2.733333  81.800000 NaN  21.386667       1   \n",
      "1            1.280000  41.800000  10.533333  47.666667 NaN  24.546667       1   \n",
      "2            1.416667  30.366667   8.000000  62.566667 NaN  31.370000       0   \n",
      "2            1.336667  29.600000   5.300000  65.100000 NaN  30.906667       1   \n",
      "3            1.396667  11.500000   6.866667  81.633333 NaN  25.270000       0   \n",
      "\n",
      "   csp_rank  \n",
      "0       2.0  \n",
      "1       2.0  \n",
      "2       1.0  \n",
      "2       2.0  \n",
      "3       3.0  \n",
      "\n",
      "[5 rows x 30 columns]\n"
     ]
    }
   ],
   "source": [
    "#Pair data so that data with the same IDstudy and plotID (but different period) are in back to back rows\n",
    "df_luc_clean = df_luc_clean.sort_values(by=['ID', 'Period'])\n",
    "\n",
    "print(df_luc_clean.head())"
   ]
  },
  {
   "cell_type": "code",
   "execution_count": 100,
   "metadata": {},
   "outputs": [
    {
     "data": {
      "text/plain": [
       "np.int64(324)"
      ]
     },
     "execution_count": 100,
     "metadata": {},
     "output_type": "execute_result"
    }
   ],
   "source": [
    "#Create a new column called 'csp_change' that is the difference in csp_rank between the current and previous period for samples with the same IDstudy and plotID\n",
    "#It should subtract the csp_rank of the previous period from the csp_rank of the current period\n",
    "\n",
    "df_luc_clean['csp_change'] = df_luc_clean.groupby(['ID', 'plotID'])['csp_rank'].diff()\n",
    "\n",
    "df_luc_clean.head()\n",
    "\n",
    "#How many Nan values are there in csp_change?\n",
    "df_luc_clean['csp_change'].isnull().sum()\n",
    "\n",
    "#How many non Nan values are there in csp_change?\n",
    "df_luc_clean['csp_change'].notnull().sum()\n"
   ]
  },
  {
   "cell_type": "code",
   "execution_count": 126,
   "metadata": {},
   "outputs": [
    {
     "data": {
      "text/plain": [
       "array([ 1., -1.,  2., -2.,  0.])"
      ]
     },
     "execution_count": 126,
     "metadata": {},
     "output_type": "execute_result"
    }
   ],
   "source": [
    "#Print all of the unique values of csp_change\n",
    "df_luc_clean['csp_change'].unique()"
   ]
  },
  {
   "cell_type": "code",
   "execution_count": 102,
   "metadata": {},
   "outputs": [
    {
     "data": {
      "text/html": [
       "<div>\n",
       "<style scoped>\n",
       "    .dataframe tbody tr th:only-of-type {\n",
       "        vertical-align: middle;\n",
       "    }\n",
       "\n",
       "    .dataframe tbody tr th {\n",
       "        vertical-align: top;\n",
       "    }\n",
       "\n",
       "    .dataframe thead th {\n",
       "        text-align: right;\n",
       "    }\n",
       "</style>\n",
       "<table border=\"1\" class=\"dataframe\">\n",
       "  <thead>\n",
       "    <tr style=\"text-align: right;\">\n",
       "      <th></th>\n",
       "      <th>ID</th>\n",
       "      <th>IDstudy</th>\n",
       "      <th>plotID</th>\n",
       "      <th>country</th>\n",
       "      <th>region</th>\n",
       "      <th>climate</th>\n",
       "      <th>bedrock</th>\n",
       "      <th>soil_type</th>\n",
       "      <th>temperature</th>\n",
       "      <th>precipitation_mm</th>\n",
       "      <th>...</th>\n",
       "      <th>bulk_density_Mg_m3</th>\n",
       "      <th>%clay</th>\n",
       "      <th>%silt</th>\n",
       "      <th>%sand</th>\n",
       "      <th>ph</th>\n",
       "      <th>SOC_Mg_ha</th>\n",
       "      <th>Period</th>\n",
       "      <th>csp_rank</th>\n",
       "      <th>csp_change</th>\n",
       "      <th>luc_rank</th>\n",
       "    </tr>\n",
       "  </thead>\n",
       "  <tbody>\n",
       "    <tr>\n",
       "      <th>0</th>\n",
       "      <td>1</td>\n",
       "      <td>1</td>\n",
       "      <td>1</td>\n",
       "      <td>Brazil</td>\n",
       "      <td>SaoPaulo</td>\n",
       "      <td>Tropical</td>\n",
       "      <td>Sandstone</td>\n",
       "      <td>Ferralsols</td>\n",
       "      <td>21.0</td>\n",
       "      <td>1500.0</td>\n",
       "      <td>...</td>\n",
       "      <td>1.396667</td>\n",
       "      <td>15.500000</td>\n",
       "      <td>2.733333</td>\n",
       "      <td>81.800000</td>\n",
       "      <td>NaN</td>\n",
       "      <td>21.386667</td>\n",
       "      <td>1</td>\n",
       "      <td>2.0</td>\n",
       "      <td>NaN</td>\n",
       "      <td>NaN</td>\n",
       "    </tr>\n",
       "    <tr>\n",
       "      <th>1</th>\n",
       "      <td>5</td>\n",
       "      <td>1</td>\n",
       "      <td>2</td>\n",
       "      <td>Brazil</td>\n",
       "      <td>SaoPaulo</td>\n",
       "      <td>Tropical</td>\n",
       "      <td>Sandstone</td>\n",
       "      <td>Luvisol</td>\n",
       "      <td>21.0</td>\n",
       "      <td>1500.0</td>\n",
       "      <td>...</td>\n",
       "      <td>1.280000</td>\n",
       "      <td>41.800000</td>\n",
       "      <td>10.533333</td>\n",
       "      <td>47.666667</td>\n",
       "      <td>NaN</td>\n",
       "      <td>24.546667</td>\n",
       "      <td>1</td>\n",
       "      <td>2.0</td>\n",
       "      <td>NaN</td>\n",
       "      <td>NaN</td>\n",
       "    </tr>\n",
       "    <tr>\n",
       "      <th>2</th>\n",
       "      <td>9</td>\n",
       "      <td>1</td>\n",
       "      <td>3</td>\n",
       "      <td>Brazil</td>\n",
       "      <td>SaoPaulo</td>\n",
       "      <td>Tropical</td>\n",
       "      <td>Granite</td>\n",
       "      <td>Ferralsols</td>\n",
       "      <td>21.0</td>\n",
       "      <td>1500.0</td>\n",
       "      <td>...</td>\n",
       "      <td>1.416667</td>\n",
       "      <td>30.366667</td>\n",
       "      <td>8.000000</td>\n",
       "      <td>62.566667</td>\n",
       "      <td>NaN</td>\n",
       "      <td>31.370000</td>\n",
       "      <td>0</td>\n",
       "      <td>1.0</td>\n",
       "      <td>NaN</td>\n",
       "      <td>NaN</td>\n",
       "    </tr>\n",
       "    <tr>\n",
       "      <th>2</th>\n",
       "      <td>9</td>\n",
       "      <td>1</td>\n",
       "      <td>3</td>\n",
       "      <td>Brazil</td>\n",
       "      <td>SaoPaulo</td>\n",
       "      <td>Tropical</td>\n",
       "      <td>Granite</td>\n",
       "      <td>Ferralsols</td>\n",
       "      <td>21.0</td>\n",
       "      <td>1500.0</td>\n",
       "      <td>...</td>\n",
       "      <td>1.336667</td>\n",
       "      <td>29.600000</td>\n",
       "      <td>5.300000</td>\n",
       "      <td>65.100000</td>\n",
       "      <td>NaN</td>\n",
       "      <td>30.906667</td>\n",
       "      <td>1</td>\n",
       "      <td>2.0</td>\n",
       "      <td>1.0</td>\n",
       "      <td>4.0</td>\n",
       "    </tr>\n",
       "    <tr>\n",
       "      <th>3</th>\n",
       "      <td>13</td>\n",
       "      <td>1</td>\n",
       "      <td>4</td>\n",
       "      <td>Brazil</td>\n",
       "      <td>SaoPaulo</td>\n",
       "      <td>Tropical</td>\n",
       "      <td>Sandstone</td>\n",
       "      <td>Luvisol</td>\n",
       "      <td>21.0</td>\n",
       "      <td>1500.0</td>\n",
       "      <td>...</td>\n",
       "      <td>1.396667</td>\n",
       "      <td>11.500000</td>\n",
       "      <td>6.866667</td>\n",
       "      <td>81.633333</td>\n",
       "      <td>NaN</td>\n",
       "      <td>25.270000</td>\n",
       "      <td>0</td>\n",
       "      <td>3.0</td>\n",
       "      <td>NaN</td>\n",
       "      <td>NaN</td>\n",
       "    </tr>\n",
       "  </tbody>\n",
       "</table>\n",
       "<p>5 rows × 32 columns</p>\n",
       "</div>"
      ],
      "text/plain": [
       "   ID  IDstudy  plotID country    region   climate    bedrock   soil_type  \\\n",
       "0   1        1       1  Brazil  SaoPaulo  Tropical  Sandstone  Ferralsols   \n",
       "1   5        1       2  Brazil  SaoPaulo  Tropical  Sandstone     Luvisol   \n",
       "2   9        1       3  Brazil  SaoPaulo  Tropical    Granite  Ferralsols   \n",
       "2   9        1       3  Brazil  SaoPaulo  Tropical    Granite  Ferralsols   \n",
       "3  13        1       4  Brazil  SaoPaulo  Tropical  Sandstone     Luvisol   \n",
       "\n",
       "   temperature  precipitation_mm  ...  bulk_density_Mg_m3      %clay  \\\n",
       "0         21.0            1500.0  ...            1.396667  15.500000   \n",
       "1         21.0            1500.0  ...            1.280000  41.800000   \n",
       "2         21.0            1500.0  ...            1.416667  30.366667   \n",
       "2         21.0            1500.0  ...            1.336667  29.600000   \n",
       "3         21.0            1500.0  ...            1.396667  11.500000   \n",
       "\n",
       "       %silt      %sand  ph  SOC_Mg_ha Period csp_rank  csp_change  luc_rank  \n",
       "0   2.733333  81.800000 NaN  21.386667      1      2.0         NaN       NaN  \n",
       "1  10.533333  47.666667 NaN  24.546667      1      2.0         NaN       NaN  \n",
       "2   8.000000  62.566667 NaN  31.370000      0      1.0         NaN       NaN  \n",
       "2   5.300000  65.100000 NaN  30.906667      1      2.0         1.0       4.0  \n",
       "3   6.866667  81.633333 NaN  25.270000      0      3.0         NaN       NaN  \n",
       "\n",
       "[5 rows x 32 columns]"
      ]
     },
     "execution_count": 102,
     "metadata": {},
     "output_type": "execute_result"
    }
   ],
   "source": [
    "#Now, create a column called luc_rank that ranks the land use types based on their csp_rank\n",
    "\n",
    "#If csp_change is 2, then luc_rank is 5\n",
    "#If csp_change is 1, then luc_rank is 4\n",
    "#If csp_change is 0, then luc_rank is 3\n",
    "#If csp_change is -1, then luc_rank is 2\n",
    "#If csp_change is -2, then luc_rank is 1\n",
    "\n",
    "df_luc_clean['luc_rank'] = df_luc_clean['csp_change'].apply(lambda x: 5 if x == 2 else (4 if x == 1 else (3 if x == 0 else (2 if x == -1 else (1 if x == -2 else np.nan)))))\n",
    "\n",
    "df_luc_clean.head()"
   ]
  },
  {
   "cell_type": "code",
   "execution_count": null,
   "metadata": {},
   "outputs": [],
   "source": []
  },
  {
   "cell_type": "code",
   "execution_count": 125,
   "metadata": {},
   "outputs": [
    {
     "name": "stderr",
     "output_type": "stream",
     "text": [
      "C:\\Users\\defrang\\AppData\\Local\\Temp\\ipykernel_25444\\804274110.py:13: FutureWarning:\n",
      "\n",
      "\n",
      "\n",
      "Passing `palette` without assigning `hue` is deprecated and will be removed in v0.14.0. Assign the `x` variable to `hue` and set `legend=False` for the same effect.\n",
      "\n",
      "\n"
     ]
    },
    {
     "name": "stdout",
     "output_type": "stream",
     "text": [
      "The skewness of the land use change rank distribution is: -0.03742823066082922\n"
     ]
    },
    {
     "data": {
      "image/png": "[encoded data removed]",
      "text/plain": [
       "<Figure size 1000x600 with 1 Axes>"
      ]
     },
     "metadata": {},
     "output_type": "display_data"
    }
   ],
   "source": [
    "#Print a histogram of luc_rank\n",
    "#First, remove NaN and convert luc_rank to a category \n",
    "\n",
    "df_luc_clean = df_luc_clean.dropna(subset=['luc_rank'])\n",
    "\n",
    "df_luc_clean['luc_rank'] = df_luc_clean['luc_rank'].astype('float')\n",
    "\n",
    "#df_luc_clean['luc_rank'] = df_luc_clean['luc_rank'].astype('category')\n",
    "\n",
    "#Plot the histogram\n",
    "palette = sns.color_palette(\"Spectral\",5)\n",
    "plt.figure(figsize=(10, 6))\n",
    "sns.countplot(data=df_luc_clean, x='luc_rank', palette=palette)\n",
    "plt.title('Distribution of Land-Use-Change Rankings')\n",
    "plt.xlabel('Land-Use-Change Rank')\n",
    "plt.ylabel('Number of plots')\n",
    "plt.ylim(0, 150)\n",
    "# Add the number of observations in each rank\n",
    "for i in range(5):\n",
    "    count = df_luc_clean['luc_rank'].value_counts().sort_index().values[i]\n",
    "    plt.text(i, count, count, ha='center', va='bottom')\n",
    "\n",
    "plt.legend(title='Environmental Impact of Land Use Change',\n",
    "           labels=['1: Extremely harmful', '2: Moderately harmful', '3: Low impact', '4: Moderately beneficial', '5: Highly beneficial'],\n",
    "           fontsize='small', loc='upper right')\n",
    "\n",
    "#Calculate and report skew\n",
    "skew = df_luc_clean['luc_rank'].skew()\n",
    "print(f\"The skewness of the land use change rank distribution is: {skew}\")\n",
    "\n",
    "plt.show()\n",
    "\n"
   ]
  },
  {
   "cell_type": "code",
   "execution_count": 114,
   "metadata": {
    "colab": {
     "base_uri": "https://localhost:8080/",
     "height": 930
    },
    "id": "PunpV2rKw--n",
    "outputId": "92fc0a84-6a9a-48ff-a33f-134056539500"
   },
   "outputs": [
    {
     "data": {
      "text/plain": [
       "LUC type\n",
       "grassland -> bioenergy             85\n",
       "annual_crop -> bioenergy           66\n",
       "annual_crop -> SRC                 61\n",
       "natural_forest -> food             27\n",
       "grassland -> SRC                   17\n",
       "grassland -> food                  17\n",
       "fallow -> SRC                       8\n",
       "fallow -> food                      8\n",
       "annual_crop -> food                 7\n",
       "natural_forest -> SRC               6\n",
       "natural_forest -> bioenergy         5\n",
       "secondary_forest -> food            5\n",
       "grassland -> livestockfood          4\n",
       "perennial_food -> bioenergy         2\n",
       "grassland -> bioproduct             2\n",
       "secondary_forest -> bioenergy       2\n",
       "annual_crop -> bioproduct           2\n",
       "natural_forest -> livestockfood     1\n",
       "SRC -> bioenergy                    1\n",
       "secondary_forest -> SRC             1\n",
       "Name: count, dtype: int64"
      ]
     },
     "execution_count": 114,
     "metadata": {},
     "output_type": "execute_result"
    }
   ],
   "source": [
    "#Create a unique list of all land use change combinations (i.e. 'current_land_use* - 'previous_land_use*'\n",
    "\n",
    "#Create a new dataframe that combines the strings in the 'LUC_this_study' and 'previous_land_use' columns into a new column called 'LUC type'\"02_Data-Cleaning-Key-concepts (1).ipynb\"\n",
    "\n",
    "df['LUC type'] = df['previous_land_use*'] + ' -> ' + df['current_land_use*']\n",
    "\n",
    "#Create a unique list of all land use change combinations (i.e. 'previous_land_use* - 'current_land_use*')\n",
    "df['LUC type'].unique()\n",
    "\n",
    "df['LUC type'].value_counts()\n",
    "\n",
    "\n"
   ]
  },
  {
   "cell_type": "markdown",
   "metadata": {
    "id": "27yIICHvw--o"
   },
   "source": [
    "We found 26 different unique land use change types. Now, we need to have a systematic way of ranking these land use change types.\n",
    "\n",
    "There are also some acronyms that we need to define:\n",
    "\n",
    "- SRC: short rotation coppice : planting of fast growing trees (usually willow or poplar, 2-8 year cycle) to be used for energy"
   ]
  },
  {
   "cell_type": "code",
   "execution_count": 115,
   "metadata": {
    "colab": {
     "base_uri": "https://localhost:8080/",
     "height": 489
    },
    "id": "wTAYRAgCw--p",
    "outputId": "0eeb776b-ba80-4773-832c-308275c6c4e2"
   },
   "outputs": [
    {
     "data": {
      "text/plain": [
       "LUC type                         CROP_current      \n",
       "SRC -> bioenergy                 Miscanthus             1\n",
       "annual_crop -> SRC               Acacia                 5\n",
       "                                 Black_locust           1\n",
       "                                 Eucalyptus             9\n",
       "                                 Poplar                22\n",
       "                                 Prosopis               1\n",
       "                                 Spruce                 1\n",
       "                                 Willow                21\n",
       "                                 Woodlot                1\n",
       "annual_crop -> bioenergy         Miscanthus            22\n",
       "                                 Sugarcane              6\n",
       "                                 Switchgrass           38\n",
       "annual_crop -> bioproduct        Cotton                 2\n",
       "annual_crop -> food              Almond                 2\n",
       "                                 Banana                 1\n",
       "                                 Cloves                 1\n",
       "                                 Guava                  1\n",
       "                                 Litchi                 1\n",
       "                                 Mango                  1\n",
       "fallow -> SRC                    Acacia                 5\n",
       "                                 Casuarina              1\n",
       "                                 Eucalyptus             2\n",
       "fallow -> food                   Almond                 6\n",
       "                                 Vineyard               2\n",
       "grassland -> SRC                 Poplar                 4\n",
       "                                 Willow                13\n",
       "grassland -> bioenergy           Miscanthus            20\n",
       "                                 Sugarcane             51\n",
       "                                 Switchgrass           14\n",
       "grassland -> bioproduct          Cotton                 2\n",
       "grassland -> food                Cocoa                  3\n",
       "                                 Coffee                12\n",
       "                                 Kiwi                   1\n",
       "                                 Palm,Banana,others     1\n",
       "grassland -> livestockfood       Atriplex               4\n",
       "natural_forest -> SRC            Araucaria              1\n",
       "                                 Cedar                  1\n",
       "                                 Eucalyptus             3\n",
       "                                 Pinus                  1\n",
       "natural_forest -> bioenergy      Sugarcane              5\n",
       "natural_forest -> food           Annona                 1\n",
       "                                 Banana                 2\n",
       "                                 Cashew                 1\n",
       "                                 Cedar                  1\n",
       "                                 Cocoa                  8\n",
       "                                 Coffee                 7\n",
       "                                 Guava                  1\n",
       "                                 Mango                  1\n",
       "                                 Manilkara              1\n",
       "                                 Olive                  2\n",
       "                                 PalmOil                2\n",
       "natural_forest -> livestockfood  Brachiaria             1\n",
       "perennial_food -> bioenergy      Sugarcane              2\n",
       "secondary_forest -> SRC          Eucalyptus             1\n",
       "secondary_forest -> bioenergy    Jatropha               2\n",
       "secondary_forest -> food         Banana                 1\n",
       "                                 Cocoa                  2\n",
       "                                 PalmOil                2\n",
       "dtype: int64"
      ]
     },
     "execution_count": 115,
     "metadata": {},
     "output_type": "execute_result"
    }
   ],
   "source": [
    "#Do of the land use change types have similar plant species in common?\n",
    "\n",
    "#Show a dataframe just containing the LUC type and the current crop type\n",
    "df[['LUC type', 'CROP_current']]\n",
    "\n",
    "#How many unique instances of there of each crop type within each LUC type?\n",
    "df.groupby(['LUC type', 'CROP_current']).size()\n"
   ]
  },
  {
   "cell_type": "code",
   "execution_count": 116,
   "metadata": {
    "colab": {
     "base_uri": "https://localhost:8080/",
     "height": 930
    },
    "id": "aYcpAznnw--q",
    "outputId": "53c889e0-afe6-4d6e-a80f-7200a7c9f251"
   },
   "outputs": [
    {
     "data": {
      "text/plain": [
       "LUC type\n",
       "SRC -> bioenergy                         Miscanthus\n",
       "annual_crop -> SRC                           Poplar\n",
       "annual_crop -> bioenergy                Switchgrass\n",
       "annual_crop -> bioproduct                    Cotton\n",
       "annual_crop -> food                          Almond\n",
       "fallow -> SRC                                Acacia\n",
       "fallow -> food                               Almond\n",
       "grassland -> SRC                             Willow\n",
       "grassland -> bioenergy                    Sugarcane\n",
       "grassland -> bioproduct                      Cotton\n",
       "grassland -> food                            Coffee\n",
       "grassland -> livestockfood                 Atriplex\n",
       "natural_forest -> SRC                    Eucalyptus\n",
       "natural_forest -> bioenergy               Sugarcane\n",
       "natural_forest -> food                        Cocoa\n",
       "natural_forest -> livestockfood          Brachiaria\n",
       "perennial_food -> bioenergy               Sugarcane\n",
       "secondary_forest -> SRC                  Eucalyptus\n",
       "secondary_forest -> bioenergy              Jatropha\n",
       "secondary_forest -> food           [Cocoa, PalmOil]\n",
       "Name: CROP_current, dtype: object"
      ]
     },
     "execution_count": 116,
     "metadata": {},
     "output_type": "execute_result"
    }
   ],
   "source": [
    "#Find the most common crop type for each LUC type\n",
    "df.groupby('LUC type')['CROP_current'].agg(pd.Series.mode)"
   ]
  },
  {
   "cell_type": "markdown",
   "metadata": {
    "id": "JWOSWx0Nw--r"
   },
   "source": [
    "Ranked based on biodiversity retention and carbon sequestration potential ​\n",
    "\n",
    "Criteria for Ranking: ​\n",
    "\n",
    "Carbon Sequestration Potential (CSP): High CSP would result in a higher score.​\n",
    "\n",
    "Biodiversity Impact (BI): High biodiversity retention would also score higher.​\n",
    "\n",
    "Each land use change type will get an index value based on these two factors. To simplify:​\n",
    "\n",
    "5: Both CSP and BI are high (minimal harm, or positive change).​\n",
    "\n",
    "4: Moderate CSP and BI are maintained.​\n",
    "\n",
    "3: Either CSP or BI is compromised significantly.​\n",
    "\n",
    "2: Both CSP and BI are moderately reduced.​\n",
    "\n",
    "1: Both CSP and BI are heavily compromised.​\n"
   ]
  },
  {
   "cell_type": "code",
   "execution_count": 117,
   "metadata": {
    "colab": {
     "base_uri": "https://localhost:8080/"
    },
    "id": "rLnkoEFaw--s",
    "outputId": "985e8a63-b775-4aef-9e55-298b57699763"
   },
   "outputs": [
    {
     "name": "stdout",
     "output_type": "stream",
     "text": [
      "LUC type\n",
      "grassland -> perennial_grass           85\n",
      "annual_crop -> perennial_grass         66\n",
      "annual_crop -> SRC                     61\n",
      "natural_forest -> perennial_woody      23\n",
      "grassland -> perennial_woody           22\n",
      "grassland -> SRC                       17\n",
      "fallow -> perennial_woody               8\n",
      "fallow -> SRC                           8\n",
      "annual_crop -> perennial_woody          8\n",
      "natural_forest -> perennial_grass       6\n",
      "natural_forest -> SRC                   6\n",
      "natural_forest -> perennial_palm        4\n",
      "secondary_forest -> perennial_woody     4\n",
      "secondary_forest -> perennial_palm      3\n",
      "annual_crop -> perennial_palm           1\n",
      "grassland -> perennial_palm             1\n",
      "SRC -> perennial_grass                  1\n",
      "secondary_forest -> SRC                 1\n",
      "Name: count, dtype: int64\n"
     ]
    },
    {
     "data": {
      "text/plain": [
       "{'perennial_woody': (2, 2),\n",
       " 'fallow': (1, 2),\n",
       " 'secondary_forest': (4, 4),\n",
       " 'grassland': (3, 3),\n",
       " 'natural_forest': (5, 5),\n",
       " 'agrofor': (3, 4),\n",
       " 'perennial_grass': (2, 2),\n",
       " 'perennial_palm': (2, 2),\n",
       " 'annual_crop': (1, 1),\n",
       " 'SRC': (3, 2)}"
      ]
     },
     "execution_count": 117,
     "metadata": {},
     "output_type": "execute_result"
    }
   ],
   "source": [
    "\n",
    "#Make a new dataframe called df_luc that replaces 'bioenergy', 'food', 'bioproduct', and 'livestockfood' with 'perrenial_crop'\n",
    "\n",
    "df_luc = df.copy()\n",
    "\n",
    "df_luc['current_land_use*'] = df_luc['current_land_use*'].apply(lambda x: 'perennial_crop' if x in ['bioenergy', 'food', 'bioproduct', 'livestockfood'] else x)\n",
    "df_luc['previous_land_use*'] = df_luc['previous_land_use*'].apply(lambda x: 'perennial_crop' if x in ['bioenergy', 'food', 'bioproduct', 'livestockfood',] else x)\n",
    "\n",
    "#Append the 'current_land_use*' column observations that are 'perennial_crop' with the CROP_type column observations\n",
    "\n",
    "df_luc['current_land_use*'] = df_luc.apply(lambda x: 'perennial_' + x['CROP_type'] if x['current_land_use*'] == 'perennial_crop' else x['current_land_use*'], axis=1)\n",
    "\n",
    "#Remove perennial_food from the dataset because we don't know the crop type so we don't know how to compare LUC where it was perennial_crop before and a different perennial crop now\n",
    "\n",
    "df_luc = df_luc[df_luc['current_land_use*'] != 'perennial_food']\n",
    "df_luc = df_luc[df_luc['previous_land_use*'] != 'perennial_food']\n",
    "\n",
    "df_luc['LUC type'] = df_luc['previous_land_use*'] + ' -> ' + df_luc['current_land_use*']\n",
    "\n",
    "df_luc['LUC type'].unique()\n",
    "\n",
    "print(df_luc['LUC type'].value_counts())\n",
    "\n",
    "def categorize_land_use(land_use):\n",
    "        return land_use\n",
    "\n",
    "# Create the dictionary with categorized land use types and their indices (CSP and BI combined)\n",
    "land_use_indices = {\n",
    "    categorize_land_use('perennial_woody'): (2, 2),\n",
    "    categorize_land_use('fallow'): (1, 2),\n",
    "    categorize_land_use('secondary_forest'): (4, 4),\n",
    "    categorize_land_use('grassland'): (3, 3),\n",
    "    categorize_land_use('natural_forest'): (5, 5),\n",
    "    categorize_land_use('agrofor'): (3, 4),\n",
    "    categorize_land_use('perennial_grass'): (2, 2),\n",
    "    categorize_land_use('perennial_palm'): (2, 2),\n",
    "    categorize_land_use('annual_crop'): (1, 1),\n",
    "    categorize_land_use('SRC'): (3,2)\n",
    "}\n",
    "\n",
    "land_use_indices\n",
    "\n",
    "\n",
    "\n"
   ]
  },
  {
   "cell_type": "code",
   "execution_count": 118,
   "metadata": {
    "colab": {
     "base_uri": "https://localhost:8080/"
    },
    "id": "j6l1RFfPw--t",
    "outputId": "a2c60ed3-5c1d-420b-dce4-3eb85c9ecb0d"
   },
   "outputs": [
    {
     "name": "stdout",
     "output_type": "stream",
     "text": [
      "   Unnamed: 0  ID  IDstudy  plotID     country         region    climate  \\\n",
      "0           0   1        1       1      Brazil       SaoPaulo   Tropical   \n",
      "1           1   5        1       2      Brazil       SaoPaulo   Tropical   \n",
      "2           2   9        1       3      Brazil       SaoPaulo   Tropical   \n",
      "3           3  13        1       4      Brazil       SaoPaulo   Tropical   \n",
      "4           4  26        4       8  New_Zeland  Bay_of_Plenty  Temperate   \n",
      "\n",
      "     bedrock       soil_type TYPE_CHANGE  ... depth_midpoint_previous  \\\n",
      "0  Sandstone      Ferralsols         LUC  ...               20.000000   \n",
      "1  Sandstone         Luvisol         LUC  ...               20.000000   \n",
      "2    Granite      Ferralsols         LUC  ...               20.000000   \n",
      "3  Sandstone         Luvisol         LUC  ...               20.000000   \n",
      "4   Volcanic  Mollic_Andosol         LUC  ...                3.754545   \n",
      "\n",
      "  Bulkdensity_previous %clay_previous %silt_previous %sand_previous  \\\n",
      "0             1.450000      21.900000       9.333333      68.766667   \n",
      "1             1.246667      46.800000      10.400000      42.766667   \n",
      "2             1.416667      30.366667       8.000000      62.566667   \n",
      "3             1.396667      11.500000       6.866667      81.633333   \n",
      "4             1.203636            NaN            NaN            NaN   \n",
      "\n",
      "   ph_previous  SOC_Mg_ha_previous  SOC_change  SOC_percentage_change  \\\n",
      "0          NaN           29.446667    8.060000             -27.371519   \n",
      "1          NaN           32.830000    8.283333             -25.230988   \n",
      "2          NaN           31.370000    0.463333              -1.476995   \n",
      "3          NaN           25.270000    5.310000             -21.013059   \n",
      "4         5.72           90.872727   -0.009091               0.010004   \n",
      "\n",
      "                      LUC type  \n",
      "0  perennial_food -> bioenergy  \n",
      "1  perennial_food -> bioenergy  \n",
      "2     annual_crop -> bioenergy  \n",
      "3       grassland -> bioenergy  \n",
      "4            grassland -> food  \n",
      "\n",
      "[5 rows x 45 columns]\n"
     ]
    }
   ],
   "source": [
    "#Assign the previous and current land use indices to each row in the dataframe\n",
    "\n",
    "#Drop any rows with missing values in the 'previous_land_use*' and 'current_land_use*' columns\n",
    "df_luc = df_luc.dropna(subset=['previous_land_use*', 'current_land_use*'])\n",
    "\n",
    "df_luc['previous_land_use_index'] = df_luc['previous_land_use*'].apply(lambda x: land_use_indices[categorize_land_use(x)])\n",
    "df_luc['current_land_use_index'] = df_luc['current_land_use*'].apply(lambda x: land_use_indices[categorize_land_use(x)])\n",
    "\n",
    "print(df.head())\n"
   ]
  },
  {
   "cell_type": "code",
   "execution_count": 119,
   "metadata": {
    "colab": {
     "base_uri": "https://localhost:8080/"
    },
    "id": "cb_2c0sjw--u",
    "outputId": "a0dabd37-8bdb-4827-f82d-2c65a9a2b830"
   },
   "outputs": [],
   "source": [
    "#Based on these indexes, rank the land use change from most to least sustainable, by calculating csp change and bi change\n",
    "\n",
    "#Based on these indexes, rank the land use change from most to least sustainable, by calculating csp change and bi change\n",
    "\n",
    "#Unpack the tuple in the 'previous_land_use_index' and 'current_land_use_index' columns into separate columns\n",
    "df_luc['previous_CSP_index'] = df_luc['previous_land_use_index'].apply(lambda x: x[0])\n",
    "df_luc['previous_BI_index'] = df_luc['previous_land_use_index'].apply(lambda x: x[1])\n",
    "df_luc['current_CSP_index'] = df_luc['current_land_use_index'].apply(lambda x: x[0])\n",
    "df_luc['current_BI_index'] = df_luc['current_land_use_index'].apply(lambda x: x[1])\n",
    "\n",
    "# Calculate the csp change and bi change for each row\n",
    "df_luc['csp_change'] = df_luc['current_CSP_index'] - df_luc['previous_CSP_index']  # Positive values indicate an increase in CSP\n",
    "df_luc['bi_change'] = df_luc['current_BI_index'] - df_luc['previous_BI_index']  # Positive values indicate an increase in BI\n",
    "\n",
    "\n",
    "\n"
   ]
  },
  {
   "cell_type": "markdown",
   "metadata": {
    "id": "OrRJ0RJ4w--u"
   },
   "source": []
  },
  {
   "cell_type": "code",
   "execution_count": 120,
   "metadata": {
    "colab": {
     "base_uri": "https://localhost:8080/",
     "height": 774
    },
    "id": "fef-WSFbw--v",
    "outputId": "1ef4b867-793b-4dc3-f3b7-870867e17706"
   },
   "outputs": [
    {
     "data": {
      "text/html": [
       "<div>\n",
       "<style scoped>\n",
       "    .dataframe tbody tr th:only-of-type {\n",
       "        vertical-align: middle;\n",
       "    }\n",
       "\n",
       "    .dataframe tbody tr th {\n",
       "        vertical-align: top;\n",
       "    }\n",
       "\n",
       "    .dataframe thead th {\n",
       "        text-align: right;\n",
       "    }\n",
       "</style>\n",
       "<table border=\"1\" class=\"dataframe\">\n",
       "  <thead>\n",
       "    <tr style=\"text-align: right;\">\n",
       "      <th></th>\n",
       "      <th>Unnamed: 0</th>\n",
       "      <th>ID</th>\n",
       "      <th>IDstudy</th>\n",
       "      <th>plotID</th>\n",
       "      <th>country</th>\n",
       "      <th>region</th>\n",
       "      <th>climate</th>\n",
       "      <th>bedrock</th>\n",
       "      <th>soil_type</th>\n",
       "      <th>TYPE_CHANGE</th>\n",
       "      <th>...</th>\n",
       "      <th>LUC type</th>\n",
       "      <th>previous_land_use_index</th>\n",
       "      <th>current_land_use_index</th>\n",
       "      <th>previous_CSP_index</th>\n",
       "      <th>previous_BI_index</th>\n",
       "      <th>current_CSP_index</th>\n",
       "      <th>current_BI_index</th>\n",
       "      <th>csp_change</th>\n",
       "      <th>bi_change</th>\n",
       "      <th>land_use_change_rank</th>\n",
       "    </tr>\n",
       "  </thead>\n",
       "  <tbody>\n",
       "    <tr>\n",
       "      <th>2</th>\n",
       "      <td>2</td>\n",
       "      <td>9</td>\n",
       "      <td>1</td>\n",
       "      <td>3</td>\n",
       "      <td>Brazil</td>\n",
       "      <td>SaoPaulo</td>\n",
       "      <td>Tropical</td>\n",
       "      <td>Granite</td>\n",
       "      <td>Ferralsols</td>\n",
       "      <td>LUC</td>\n",
       "      <td>...</td>\n",
       "      <td>annual_crop -&gt; perennial_grass</td>\n",
       "      <td>(1, 1)</td>\n",
       "      <td>(2, 2)</td>\n",
       "      <td>1</td>\n",
       "      <td>1</td>\n",
       "      <td>2</td>\n",
       "      <td>2</td>\n",
       "      <td>1</td>\n",
       "      <td>1</td>\n",
       "      <td>4</td>\n",
       "    </tr>\n",
       "    <tr>\n",
       "      <th>3</th>\n",
       "      <td>3</td>\n",
       "      <td>13</td>\n",
       "      <td>1</td>\n",
       "      <td>4</td>\n",
       "      <td>Brazil</td>\n",
       "      <td>SaoPaulo</td>\n",
       "      <td>Tropical</td>\n",
       "      <td>Sandstone</td>\n",
       "      <td>Luvisol</td>\n",
       "      <td>LUC</td>\n",
       "      <td>...</td>\n",
       "      <td>grassland -&gt; perennial_grass</td>\n",
       "      <td>(3, 3)</td>\n",
       "      <td>(2, 2)</td>\n",
       "      <td>3</td>\n",
       "      <td>3</td>\n",
       "      <td>2</td>\n",
       "      <td>2</td>\n",
       "      <td>-1</td>\n",
       "      <td>-1</td>\n",
       "      <td>2</td>\n",
       "    </tr>\n",
       "    <tr>\n",
       "      <th>4</th>\n",
       "      <td>4</td>\n",
       "      <td>26</td>\n",
       "      <td>4</td>\n",
       "      <td>8</td>\n",
       "      <td>New_Zeland</td>\n",
       "      <td>Bay_of_Plenty</td>\n",
       "      <td>Temperate</td>\n",
       "      <td>Volcanic</td>\n",
       "      <td>Mollic_Andosol</td>\n",
       "      <td>LUC</td>\n",
       "      <td>...</td>\n",
       "      <td>grassland -&gt; perennial_woody</td>\n",
       "      <td>(3, 3)</td>\n",
       "      <td>(2, 2)</td>\n",
       "      <td>3</td>\n",
       "      <td>3</td>\n",
       "      <td>2</td>\n",
       "      <td>2</td>\n",
       "      <td>-1</td>\n",
       "      <td>-1</td>\n",
       "      <td>2</td>\n",
       "    </tr>\n",
       "    <tr>\n",
       "      <th>5</th>\n",
       "      <td>5</td>\n",
       "      <td>61</td>\n",
       "      <td>6</td>\n",
       "      <td>15</td>\n",
       "      <td>Germany</td>\n",
       "      <td>Ihinger_Hof</td>\n",
       "      <td>Temperate</td>\n",
       "      <td>NaN</td>\n",
       "      <td>Haplic_Luvisol</td>\n",
       "      <td>LUC</td>\n",
       "      <td>...</td>\n",
       "      <td>annual_crop -&gt; perennial_grass</td>\n",
       "      <td>(1, 1)</td>\n",
       "      <td>(2, 2)</td>\n",
       "      <td>1</td>\n",
       "      <td>1</td>\n",
       "      <td>2</td>\n",
       "      <td>2</td>\n",
       "      <td>1</td>\n",
       "      <td>1</td>\n",
       "      <td>4</td>\n",
       "    </tr>\n",
       "    <tr>\n",
       "      <th>6</th>\n",
       "      <td>6</td>\n",
       "      <td>62</td>\n",
       "      <td>6</td>\n",
       "      <td>16</td>\n",
       "      <td>Germany</td>\n",
       "      <td>Ihinger_Hof</td>\n",
       "      <td>Temperate</td>\n",
       "      <td>NaN</td>\n",
       "      <td>Haplic_Luvisol</td>\n",
       "      <td>LUC</td>\n",
       "      <td>...</td>\n",
       "      <td>annual_crop -&gt; perennial_grass</td>\n",
       "      <td>(1, 1)</td>\n",
       "      <td>(2, 2)</td>\n",
       "      <td>1</td>\n",
       "      <td>1</td>\n",
       "      <td>2</td>\n",
       "      <td>2</td>\n",
       "      <td>1</td>\n",
       "      <td>1</td>\n",
       "      <td>4</td>\n",
       "    </tr>\n",
       "  </tbody>\n",
       "</table>\n",
       "<p>5 rows × 54 columns</p>\n",
       "</div>"
      ],
      "text/plain": [
       "   Unnamed: 0  ID  IDstudy  plotID     country         region    climate  \\\n",
       "2           2   9        1       3      Brazil       SaoPaulo   Tropical   \n",
       "3           3  13        1       4      Brazil       SaoPaulo   Tropical   \n",
       "4           4  26        4       8  New_Zeland  Bay_of_Plenty  Temperate   \n",
       "5           5  61        6      15     Germany    Ihinger_Hof  Temperate   \n",
       "6           6  62        6      16     Germany    Ihinger_Hof  Temperate   \n",
       "\n",
       "     bedrock       soil_type TYPE_CHANGE  ...                        LUC type  \\\n",
       "2    Granite      Ferralsols         LUC  ...  annual_crop -> perennial_grass   \n",
       "3  Sandstone         Luvisol         LUC  ...    grassland -> perennial_grass   \n",
       "4   Volcanic  Mollic_Andosol         LUC  ...    grassland -> perennial_woody   \n",
       "5        NaN  Haplic_Luvisol         LUC  ...  annual_crop -> perennial_grass   \n",
       "6        NaN  Haplic_Luvisol         LUC  ...  annual_crop -> perennial_grass   \n",
       "\n",
       "  previous_land_use_index current_land_use_index previous_CSP_index  \\\n",
       "2                  (1, 1)                 (2, 2)                  1   \n",
       "3                  (3, 3)                 (2, 2)                  3   \n",
       "4                  (3, 3)                 (2, 2)                  3   \n",
       "5                  (1, 1)                 (2, 2)                  1   \n",
       "6                  (1, 1)                 (2, 2)                  1   \n",
       "\n",
       "  previous_BI_index  current_CSP_index  current_BI_index  csp_change  \\\n",
       "2                 1                  2                 2           1   \n",
       "3                 3                  2                 2          -1   \n",
       "4                 3                  2                 2          -1   \n",
       "5                 1                  2                 2           1   \n",
       "6                 1                  2                 2           1   \n",
       "\n",
       "   bi_change  land_use_change_rank  \n",
       "2          1                     4  \n",
       "3         -1                     2  \n",
       "4         -1                     2  \n",
       "5          1                     4  \n",
       "6          1                     4  \n",
       "\n",
       "[5 rows x 54 columns]"
      ]
     },
     "execution_count": 120,
     "metadata": {},
     "output_type": "execute_result"
    }
   ],
   "source": [
    "#Let's try a different formulation for calcualtion the rank of land use change\n",
    "# Define a function to rank land use change based on combined CSP and BI changes\n",
    "\n",
    "def rank_land_use_change(csp_change, bi_change):\n",
    "    #If both increase in csp and bi, and either increases by more than 1, the land use change is ranked as 5\n",
    "    if csp_change > 0 and bi_change > 0 and (csp_change > 1 or bi_change > 1):\n",
    "        return 5\n",
    "    #If both increase in csp and bi, but neither increases by more than 1, the land use change is ranked as 4\n",
    "    elif csp_change > 0 and bi_change > 0 and (csp_change <= 1 and bi_change <= 1):\n",
    "        return 4\n",
    "    #If csp and bi stay the same, or if one increases by and the other stays the same,\n",
    "    # or if one decreases and the other stays the same, the land use change is ranked as 3\n",
    "    elif (csp_change == 0 and bi_change == 0) or (csp_change >= 0 and bi_change == 0) or (csp_change == 0 and bi_change >= 0) or (csp_change == -1 and bi_change == 0) or (csp_change == 0 and bi_change == -1):\n",
    "        return 3\n",
    "    #If one increases by 1 and the other decreases by 1, the land use change is ranked as 3\n",
    "    elif (csp_change == 1 and bi_change == -1) or (csp_change == -1 and bi_change == 1):\n",
    "        return 3\n",
    "    #If both decrease, but neither decreases by more than 1, the land use change is ranked as 2\n",
    "    elif csp_change < 0 and bi_change < 0 and (csp_change >= -1 and bi_change >= -1):\n",
    "        return 2\n",
    "    #If both decrease, and either decreases by more than 1, the land use change is ranked as 1\n",
    "    elif csp_change < 0 and bi_change < 0 and (csp_change < -1 or bi_change < -1):\n",
    "        return 1\n",
    "\n",
    "\n",
    "# Apply the function to rank the land use change\n",
    "df_luc['land_use_change_rank'] = df_luc.apply(lambda x: rank_land_use_change(x['csp_change'], x['bi_change']), axis=1)\n",
    "\n",
    "# Display the updated dataframe with the land use change rank\n",
    "df_luc.head()\n",
    "\n",
    "#df_luc.groupby('LUC type')['land_use_change_rank'].unique().sort_values(ascending=False)"
   ]
  },
  {
   "cell_type": "code",
   "execution_count": 124,
   "metadata": {
    "colab": {
     "base_uri": "https://localhost:8080/",
     "height": 668
    },
    "id": "hY4Ipibbw--w",
    "outputId": "21bfd3a8-e800-4507-a14b-4370abc6d478"
   },
   "outputs": [
    {
     "name": "stderr",
     "output_type": "stream",
     "text": [
      "C:\\Users\\defrang\\AppData\\Local\\Temp\\ipykernel_25444\\294663727.py:7: FutureWarning:\n",
      "\n",
      "\n",
      "\n",
      "Passing `palette` without assigning `hue` is deprecated and will be removed in v0.14.0. Assign the `x` variable to `hue` and set `legend=False` for the same effect.\n",
      "\n",
      "\n"
     ]
    },
    {
     "name": "stdout",
     "output_type": "stream",
     "text": [
      "The skewness of the land use change rank distribution is: 0.12754241907479463\n"
     ]
    },
    {
     "data": {
      "image/png": "[encoded data removed]",
      "text/plain": [
       "<Figure size 1000x600 with 1 Axes>"
      ]
     },
     "metadata": {},
     "output_type": "display_data"
    }
   ],
   "source": [
    "# Plot the distribution of land use change ranks\n",
    "# palette should go be dark and muted, from a deep orange to a deep turquoise, passing through a neutral yellow\n",
    "\n",
    "\n",
    "palette = sns.color_palette(\"Spectral\",5)\n",
    "plt.figure(figsize=(10, 6))\n",
    "sns.countplot(data=df_luc, x='land_use_change_rank', palette=palette)\n",
    "plt.title('Distribution of Land-Use-Change Rankings')\n",
    "plt.xlabel('Land-Use-Change Rank')\n",
    "plt.ylabel('Number of plots')\n",
    "plt.ylim(0, 150)\n",
    "# Add the number of observations in each rank\n",
    "for i in range(5):\n",
    "    count = df_luc['land_use_change_rank'].value_counts().sort_index().values[i]\n",
    "    plt.text(i, count, count, ha='center', va='bottom')\n",
    "\n",
    "plt.legend(title='Environmental Impact of Land Use Change',\n",
    "           labels=['1: Extremely harmful', '2: Moderately harmful', '3: Low impact', '4: Moderately beneficial', '5: Highly beneficial'],\n",
    "           fontsize='small', loc='upper right')\n",
    "\n",
    "#Calculate and report skew\n",
    "skew = df_luc['land_use_change_rank'].skew()\n",
    "print(f\"The skewness of the land use change rank distribution is: {skew}\")\n",
    "\n",
    "plt.show()"
   ]
  },
  {
   "cell_type": "code",
   "execution_count": 127,
   "metadata": {
    "colab": {
     "base_uri": "https://localhost:8080/"
    },
    "id": "TuhR3SDRfKh-",
    "outputId": "f99d6e5b-2213-4062-ec5f-286170abd536"
   },
   "outputs": [
    {
     "name": "stdout",
     "output_type": "stream",
     "text": [
      "     Unnamed: 0    ID  IDstudy  plotID     country         region    climate  \\\n",
      "2             2     9        1       3      Brazil       SaoPaulo   Tropical   \n",
      "3             3    13        1       4      Brazil       SaoPaulo   Tropical   \n",
      "4             4    26        4       8  New_Zeland  Bay_of_Plenty  Temperate   \n",
      "5             5    61        6      15     Germany    Ihinger_Hof  Temperate   \n",
      "6             6    62        6      16     Germany    Ihinger_Hof  Temperate   \n",
      "..          ...   ...      ...     ...         ...            ...        ...   \n",
      "429         429  1563      179     703       India         Karnal   Tropical   \n",
      "430         430  1570      179     704       India         Karnal   Tropical   \n",
      "431         431  1577      179     705       India         Karnal   Tropical   \n",
      "432         432  1584      179     706       India         Karnal   Tropical   \n",
      "433         433  1591      179     707       India         Karnal   Tropical   \n",
      "\n",
      "       bedrock         soil_type TYPE_CHANGE  ...  \\\n",
      "2      Granite        Ferralsols         LUC  ...   \n",
      "3    Sandstone           Luvisol         LUC  ...   \n",
      "4     Volcanic    Mollic_Andosol         LUC  ...   \n",
      "5          NaN    Haplic_Luvisol         LUC  ...   \n",
      "6          NaN    Haplic_Luvisol         LUC  ...   \n",
      "..         ...               ...         ...  ...   \n",
      "429        NaN  Typic_Natrustalf         LUC  ...   \n",
      "430        NaN  Typic_Natrustalf         LUC  ...   \n",
      "431        NaN  Typic_Natrustalf         LUC  ...   \n",
      "432        NaN  Typic_Natrustalf         LUC  ...   \n",
      "433        NaN  Typic_Natrustalf         LUC  ...   \n",
      "\n",
      "                           LUC type previous_land_use_index  \\\n",
      "2    annual_crop -> perennial_grass                  (1, 1)   \n",
      "3      grassland -> perennial_grass                  (3, 3)   \n",
      "4      grassland -> perennial_woody                  (3, 3)   \n",
      "5    annual_crop -> perennial_grass                  (1, 1)   \n",
      "6    annual_crop -> perennial_grass                  (1, 1)   \n",
      "..                              ...                     ...   \n",
      "429  annual_crop -> perennial_woody                  (1, 1)   \n",
      "430  annual_crop -> perennial_woody                  (1, 1)   \n",
      "431  annual_crop -> perennial_woody                  (1, 1)   \n",
      "432              annual_crop -> SRC                  (1, 1)   \n",
      "433              annual_crop -> SRC                  (1, 1)   \n",
      "\n",
      "    current_land_use_index previous_CSP_index previous_BI_index  \\\n",
      "2                   (2, 2)                  1                 1   \n",
      "3                   (2, 2)                  3                 3   \n",
      "4                   (2, 2)                  3                 3   \n",
      "5                   (2, 2)                  1                 1   \n",
      "6                   (2, 2)                  1                 1   \n",
      "..                     ...                ...               ...   \n",
      "429                 (2, 2)                  1                 1   \n",
      "430                 (2, 2)                  1                 1   \n",
      "431                 (2, 2)                  1                 1   \n",
      "432                 (3, 2)                  1                 1   \n",
      "433                 (3, 2)                  1                 1   \n",
      "\n",
      "     current_CSP_index  current_BI_index  csp_change  bi_change  \\\n",
      "2                    2                 2           1          1   \n",
      "3                    2                 2          -1         -1   \n",
      "4                    2                 2          -1         -1   \n",
      "5                    2                 2           1          1   \n",
      "6                    2                 2           1          1   \n",
      "..                 ...               ...         ...        ...   \n",
      "429                  2                 2           1          1   \n",
      "430                  2                 2           1          1   \n",
      "431                  2                 2           1          1   \n",
      "432                  3                 2           2          1   \n",
      "433                  3                 2           2          1   \n",
      "\n",
      "     land_use_change_rank  \n",
      "2                       4  \n",
      "3                       2  \n",
      "4                       2  \n",
      "5                       4  \n",
      "6                       4  \n",
      "..                    ...  \n",
      "429                     4  \n",
      "430                     4  \n",
      "431                     4  \n",
      "432                     5  \n",
      "433                     5  \n",
      "\n",
      "[325 rows x 54 columns]\n"
     ]
    }
   ],
   "source": [
    "print(df_luc)"
   ]
  },
  {
   "cell_type": "markdown",
   "metadata": {
    "id": "fadKPstaw--y"
   },
   "source": [
    "There is a potential to get more nuanced with this by accounting for crop type and fertilizer"
   ]
  },
  {
   "cell_type": "code",
   "execution_count": null,
   "metadata": {
    "colab": {
     "base_uri": "https://localhost:8080/",
     "height": 542
    },
    "id": "zzehGCp6w--y",
    "outputId": "13eff0b1-4f20-468b-e2e9-9629f55819ec"
   },
   "outputs": [
    {
     "data": {
      "application/vnd.plotly.v1+json": {
       "config": {
        "plotlyServerURL": "https://plot.ly"
       },
       "data": [
        {
         "coloraxis": "coloraxis",
         "geo": "geo",
         "hovertemplate": "country=%{location}<br>land_use_change_rank=%{z}<extra></extra>",
         "locationmode": "country names",
         "locations": [
          "Australia",
          "Brazil",
          "Cameroon",
          "Canada",
          "Costa_rica",
          "Ethiopia",
          "France",
          "Germany",
          "Ghana",
          "India",
          "Indonesia",
          "Ireland",
          "Italy",
          "Malaysia",
          "New_Zeland",
          "PuertoRico",
          "Spain",
          "Sri_Lanka",
          "Tanzania",
          "UK",
          "USA",
          "Venezuela",
          "italy"
         ],
         "name": "",
         "type": "choropleth",
         "z": [
          4,
          1.83,
          1,
          4.5,
          1.8,
          5,
          4,
          4.61,
          1,
          3.86,
          1,
          3,
          2.75,
          1,
          2,
          3,
          2.67,
          2.5,
          4,
          3.63,
          3.24,
          1,
          5
         ]
        }
       ],
       "layout": {
        "coloraxis": {
         "cmax": 5,
         "cmin": 1,
         "colorbar": {
          "len": 0.5,
          "title": {
           "text": "Land Use Change Rank"
          }
         },
         "colorscale": [
          [
           0,
           "rgb(202, 86, 44)"
          ],
          [
           0.16666666666666666,
           "rgb(222, 138, 90)"
          ],
          [
           0.3333333333333333,
           "rgb(237, 187, 138)"
          ],
          [
           0.5,
           "rgb(246, 237, 189)"
          ],
          [
           0.6666666666666666,
           "rgb(180, 200, 168)"
          ],
          [
           0.8333333333333334,
           "rgb(112, 164, 148)"
          ],
          [
           1,
           "rgb(0, 128, 128)"
          ]
         ]
        },
        "geo": {
         "center": {},
         "domain": {
          "x": [
           0,
           1
          ],
          "y": [
           0,
           1
          ]
         }
        },
        "legend": {
         "tracegroupgap": 0
        },
        "template": {
         "data": {
          "bar": [
           {
            "error_x": {
             "color": "#2a3f5f"
            },
            "error_y": {
             "color": "#2a3f5f"
            },
            "marker": {
             "line": {
              "color": "#E5ECF6",
              "width": 0.5
             },
             "pattern": {
              "fillmode": "overlay",
              "size": 10,
              "solidity": 0.2
             }
            },
            "type": "bar"
           }
          ],
          "barpolar": [
           {
            "marker": {
             "line": {
              "color": "#E5ECF6",
              "width": 0.5
             },
             "pattern": {
              "fillmode": "overlay",
              "size": 10,
              "solidity": 0.2
             }
            },
            "type": "barpolar"
           }
          ],
          "carpet": [
           {
            "aaxis": {
             "endlinecolor": "#2a3f5f",
             "gridcolor": "white",
             "linecolor": "white",
             "minorgridcolor": "white",
             "startlinecolor": "#2a3f5f"
            },
            "baxis": {
             "endlinecolor": "#2a3f5f",
             "gridcolor": "white",
             "linecolor": "white",
             "minorgridcolor": "white",
             "startlinecolor": "#2a3f5f"
            },
            "type": "carpet"
           }
          ],
          "choropleth": [
           {
            "colorbar": {
             "outlinewidth": 0,
             "ticks": ""
            },
            "type": "choropleth"
           }
          ],
          "contour": [
           {
            "colorbar": {
             "outlinewidth": 0,
             "ticks": ""
            },
            "colorscale": [
             [
              0,
              "#0d0887"
             ],
             [
              0.1111111111111111,
              "#46039f"
             ],
             [
              0.2222222222222222,
              "#7201a8"
             ],
             [
              0.3333333333333333,
              "#9c179e"
             ],
             [
              0.4444444444444444,
              "#bd3786"
             ],
             [
              0.5555555555555556,
              "#d8576b"
             ],
             [
              0.6666666666666666,
              "#ed7953"
             ],
             [
              0.7777777777777778,
              "#fb9f3a"
             ],
             [
              0.8888888888888888,
              "#fdca26"
             ],
             [
              1,
              "#f0f921"
             ]
            ],
            "type": "contour"
           }
          ],
          "contourcarpet": [
           {
            "colorbar": {
             "outlinewidth": 0,
             "ticks": ""
            },
            "type": "contourcarpet"
           }
          ],
          "heatmap": [
           {
            "colorbar": {
             "outlinewidth": 0,
             "ticks": ""
            },
            "colorscale": [
             [
              0,
              "#0d0887"
             ],
             [
              0.1111111111111111,
              "#46039f"
             ],
             [
              0.2222222222222222,
              "#7201a8"
             ],
             [
              0.3333333333333333,
              "#9c179e"
             ],
             [
              0.4444444444444444,
              "#bd3786"
             ],
             [
              0.5555555555555556,
              "#d8576b"
             ],
             [
              0.6666666666666666,
              "#ed7953"
             ],
             [
              0.7777777777777778,
              "#fb9f3a"
             ],
             [
              0.8888888888888888,
              "#fdca26"
             ],
             [
              1,
              "#f0f921"
             ]
            ],
            "type": "heatmap"
           }
          ],
          "heatmapgl": [
           {
            "colorbar": {
             "outlinewidth": 0,
             "ticks": ""
            },
            "colorscale": [
             [
              0,
              "#0d0887"
             ],
             [
              0.1111111111111111,
              "#46039f"
             ],
             [
              0.2222222222222222,
              "#7201a8"
             ],
             [
              0.3333333333333333,
              "#9c179e"
             ],
             [
              0.4444444444444444,
              "#bd3786"
             ],
             [
              0.5555555555555556,
              "#d8576b"
             ],
             [
              0.6666666666666666,
              "#ed7953"
             ],
             [
              0.7777777777777778,
              "#fb9f3a"
             ],
             [
              0.8888888888888888,
              "#fdca26"
             ],
             [
              1,
              "#f0f921"
             ]
            ],
            "type": "heatmapgl"
           }
          ],
          "histogram": [
           {
            "marker": {
             "pattern": {
              "fillmode": "overlay",
              "size": 10,
              "solidity": 0.2
             }
            },
            "type": "histogram"
           }
          ],
          "histogram2d": [
           {
            "colorbar": {
             "outlinewidth": 0,
             "ticks": ""
            },
            "colorscale": [
             [
              0,
              "#0d0887"
             ],
             [
              0.1111111111111111,
              "#46039f"
             ],
             [
              0.2222222222222222,
              "#7201a8"
             ],
             [
              0.3333333333333333,
              "#9c179e"
             ],
             [
              0.4444444444444444,
              "#bd3786"
             ],
             [
              0.5555555555555556,
              "#d8576b"
             ],
             [
              0.6666666666666666,
              "#ed7953"
             ],
             [
              0.7777777777777778,
              "#fb9f3a"
             ],
             [
              0.8888888888888888,
              "#fdca26"
             ],
             [
              1,
              "#f0f921"
             ]
            ],
            "type": "histogram2d"
           }
          ],
          "histogram2dcontour": [
           {
            "colorbar": {
             "outlinewidth": 0,
             "ticks": ""
            },
            "colorscale": [
             [
              0,
              "#0d0887"
             ],
             [
              0.1111111111111111,
              "#46039f"
             ],
             [
              0.2222222222222222,
              "#7201a8"
             ],
             [
              0.3333333333333333,
              "#9c179e"
             ],
             [
              0.4444444444444444,
              "#bd3786"
             ],
             [
              0.5555555555555556,
              "#d8576b"
             ],
             [
              0.6666666666666666,
              "#ed7953"
             ],
             [
              0.7777777777777778,
              "#fb9f3a"
             ],
             [
              0.8888888888888888,
              "#fdca26"
             ],
             [
              1,
              "#f0f921"
             ]
            ],
            "type": "histogram2dcontour"
           }
          ],
          "mesh3d": [
           {
            "colorbar": {
             "outlinewidth": 0,
             "ticks": ""
            },
            "type": "mesh3d"
           }
          ],
          "parcoords": [
           {
            "line": {
             "colorbar": {
              "outlinewidth": 0,
              "ticks": ""
             }
            },
            "type": "parcoords"
           }
          ],
          "pie": [
           {
            "automargin": true,
            "type": "pie"
           }
          ],
          "scatter": [
           {
            "fillpattern": {
             "fillmode": "overlay",
             "size": 10,
             "solidity": 0.2
            },
            "type": "scatter"
           }
          ],
          "scatter3d": [
           {
            "line": {
             "colorbar": {
              "outlinewidth": 0,
              "ticks": ""
             }
            },
            "marker": {
             "colorbar": {
              "outlinewidth": 0,
              "ticks": ""
             }
            },
            "type": "scatter3d"
           }
          ],
          "scattercarpet": [
           {
            "marker": {
             "colorbar": {
              "outlinewidth": 0,
              "ticks": ""
             }
            },
            "type": "scattercarpet"
           }
          ],
          "scattergeo": [
           {
            "marker": {
             "colorbar": {
              "outlinewidth": 0,
              "ticks": ""
             }
            },
            "type": "scattergeo"
           }
          ],
          "scattergl": [
           {
            "marker": {
             "colorbar": {
              "outlinewidth": 0,
              "ticks": ""
             }
            },
            "type": "scattergl"
           }
          ],
          "scattermapbox": [
           {
            "marker": {
             "colorbar": {
              "outlinewidth": 0,
              "ticks": ""
             }
            },
            "type": "scattermapbox"
           }
          ],
          "scatterpolar": [
           {
            "marker": {
             "colorbar": {
              "outlinewidth": 0,
              "ticks": ""
             }
            },
            "type": "scatterpolar"
           }
          ],
          "scatterpolargl": [
           {
            "marker": {
             "colorbar": {
              "outlinewidth": 0,
              "ticks": ""
             }
            },
            "type": "scatterpolargl"
           }
          ],
          "scatterternary": [
           {
            "marker": {
             "colorbar": {
              "outlinewidth": 0,
              "ticks": ""
             }
            },
            "type": "scatterternary"
           }
          ],
          "surface": [
           {
            "colorbar": {
             "outlinewidth": 0,
             "ticks": ""
            },
            "colorscale": [
             [
              0,
              "#0d0887"
             ],
             [
              0.1111111111111111,
              "#46039f"
             ],
             [
              0.2222222222222222,
              "#7201a8"
             ],
             [
              0.3333333333333333,
              "#9c179e"
             ],
             [
              0.4444444444444444,
              "#bd3786"
             ],
             [
              0.5555555555555556,
              "#d8576b"
             ],
             [
              0.6666666666666666,
              "#ed7953"
             ],
             [
              0.7777777777777778,
              "#fb9f3a"
             ],
             [
              0.8888888888888888,
              "#fdca26"
             ],
             [
              1,
              "#f0f921"
             ]
            ],
            "type": "surface"
           }
          ],
          "table": [
           {
            "cells": {
             "fill": {
              "color": "#EBF0F8"
             },
             "line": {
              "color": "white"
             }
            },
            "header": {
             "fill": {
              "color": "#C8D4E3"
             },
             "line": {
              "color": "white"
             }
            },
            "type": "table"
           }
          ]
         },
         "layout": {
          "annotationdefaults": {
           "arrowcolor": "#2a3f5f",
           "arrowhead": 0,
           "arrowwidth": 1
          },
          "autotypenumbers": "strict",
          "coloraxis": {
           "colorbar": {
            "outlinewidth": 0,
            "ticks": ""
           }
          },
          "colorscale": {
           "diverging": [
            [
             0,
             "#8e0152"
            ],
            [
             0.1,
             "#c51b7d"
            ],
            [
             0.2,
             "#de77ae"
            ],
            [
             0.3,
             "#f1b6da"
            ],
            [
             0.4,
             "#fde0ef"
            ],
            [
             0.5,
             "#f7f7f7"
            ],
            [
             0.6,
             "#e6f5d0"
            ],
            [
             0.7,
             "#b8e186"
            ],
            [
             0.8,
             "#7fbc41"
            ],
            [
             0.9,
             "#4d9221"
            ],
            [
             1,
             "#276419"
            ]
           ],
           "sequential": [
            [
             0,
             "#0d0887"
            ],
            [
             0.1111111111111111,
             "#46039f"
            ],
            [
             0.2222222222222222,
             "#7201a8"
            ],
            [
             0.3333333333333333,
             "#9c179e"
            ],
            [
             0.4444444444444444,
             "#bd3786"
            ],
            [
             0.5555555555555556,
             "#d8576b"
            ],
            [
             0.6666666666666666,
             "#ed7953"
            ],
            [
             0.7777777777777778,
             "#fb9f3a"
            ],
            [
             0.8888888888888888,
             "#fdca26"
            ],
            [
             1,
             "#f0f921"
            ]
           ],
           "sequentialminus": [
            [
             0,
             "#0d0887"
            ],
            [
             0.1111111111111111,
             "#46039f"
            ],
            [
             0.2222222222222222,
             "#7201a8"
            ],
            [
             0.3333333333333333,
             "#9c179e"
            ],
            [
             0.4444444444444444,
             "#bd3786"
            ],
            [
             0.5555555555555556,
             "#d8576b"
            ],
            [
             0.6666666666666666,
             "#ed7953"
            ],
            [
             0.7777777777777778,
             "#fb9f3a"
            ],
            [
             0.8888888888888888,
             "#fdca26"
            ],
            [
             1,
             "#f0f921"
            ]
           ]
          },
          "colorway": [
           "#636efa",
           "#EF553B",
           "#00cc96",
           "#ab63fa",
           "#FFA15A",
           "#19d3f3",
           "#FF6692",
           "#B6E880",
           "#FF97FF",
           "#FECB52"
          ],
          "font": {
           "color": "#2a3f5f"
          },
          "geo": {
           "bgcolor": "white",
           "lakecolor": "white",
           "landcolor": "#E5ECF6",
           "showlakes": true,
           "showland": true,
           "subunitcolor": "white"
          },
          "hoverlabel": {
           "align": "left"
          },
          "hovermode": "closest",
          "mapbox": {
           "style": "light"
          },
          "paper_bgcolor": "white",
          "plot_bgcolor": "#E5ECF6",
          "polar": {
           "angularaxis": {
            "gridcolor": "white",
            "linecolor": "white",
            "ticks": ""
           },
           "bgcolor": "#E5ECF6",
           "radialaxis": {
            "gridcolor": "white",
            "linecolor": "white",
            "ticks": ""
           }
          },
          "scene": {
           "xaxis": {
            "backgroundcolor": "#E5ECF6",
            "gridcolor": "white",
            "gridwidth": 2,
            "linecolor": "white",
            "showbackground": true,
            "ticks": "",
            "zerolinecolor": "white"
           },
           "yaxis": {
            "backgroundcolor": "#E5ECF6",
            "gridcolor": "white",
            "gridwidth": 2,
            "linecolor": "white",
            "showbackground": true,
            "ticks": "",
            "zerolinecolor": "white"
           },
           "zaxis": {
            "backgroundcolor": "#E5ECF6",
            "gridcolor": "white",
            "gridwidth": 2,
            "linecolor": "white",
            "showbackground": true,
            "ticks": "",
            "zerolinecolor": "white"
           }
          },
          "shapedefaults": {
           "line": {
            "color": "#2a3f5f"
           }
          },
          "ternary": {
           "aaxis": {
            "gridcolor": "white",
            "linecolor": "white",
            "ticks": ""
           },
           "baxis": {
            "gridcolor": "white",
            "linecolor": "white",
            "ticks": ""
           },
           "bgcolor": "#E5ECF6",
           "caxis": {
            "gridcolor": "white",
            "linecolor": "white",
            "ticks": ""
           }
          },
          "title": {
           "x": 0.05
          },
          "xaxis": {
           "automargin": true,
           "gridcolor": "white",
           "linecolor": "white",
           "ticks": "",
           "title": {
            "standoff": 15
           },
           "zerolinecolor": "white",
           "zerolinewidth": 2
          },
          "yaxis": {
           "automargin": true,
           "gridcolor": "white",
           "linecolor": "white",
           "ticks": "",
           "title": {
            "standoff": 15
           },
           "zerolinecolor": "white",
           "zerolinewidth": 2
          }
         }
        },
        "title": {
         "text": "Average Land-Use-Change Rank by Country"
        }
       }
      }
     },
     "metadata": {},
     "output_type": "display_data"
    }
   ],
   "source": [
    "#Make a choropleth of land use change rank by country\n",
    "\n",
    "#Group the data by country and calculate the average land use change rank to two decimal places\n",
    "\n",
    "country_rank = df_luc.groupby('country')['land_use_change_rank'].mean().round(2).reset_index()\n",
    "\n",
    "fig = px.choropleth(country_rank, locations='country', locationmode='country names', color='land_use_change_rank',\n",
    "                    color_continuous_scale='geyser_r',\n",
    "                    range_color = [1, 5],\n",
    "\n",
    "                    title='Average Land-Use-Change Rank by Country')\n",
    "fig.update_layout(coloraxis_colorbar=dict(title='Land Use Change Rank'))\n",
    "fig.update_layout(coloraxis_colorbar=dict(title='Land Use Change Rank', len=0.5))\n",
    "\n",
    "\n",
    "fig.show()\n",
    "\n",
    "#Save the figure as an HTML file and save it to the current working directory\n",
    "\n",
    "if SAVE_HTML: \n",
    "    fig.write_html('land_use_change_rank_by_country.html')\n",
    "\n",
    "#Save the figure as a PNG file and save it to the current working directory\n",
    "if SAVE_FIGS:\n",
    "    fig.write_image('land_use_change_rank_by_country.png')\n",
    "\n"
   ]
  },
  {
   "cell_type": "code",
   "execution_count": null,
   "metadata": {
    "id": "MvJTjUAqw--8"
   },
   "outputs": [],
   "source": [
    "#Let's see what variables are the best predictors of the SOC_change_category variable\n",
    "#We will use a Decision Tree Classifier for this\n",
    "\n",
    "from sklearn.tree import DecisionTreeClassifier\n",
    "from sklearn.model_selection import train_test_split\n",
    "from sklearn.metrics import accuracy_score\n",
    "from sklearn.preprocessing import LabelEncoder\n",
    "\n",
    "#Drop the columns that are not needed\n",
    "df = df.drop(['SOC_Mg_ha_previous', 'SOC_Mg_ha_current', 'log_SOC_Mg_ha_previous', 'log_SOC_Mg_ha_current', 'SOC_change'], axis=1)\n",
    "\n",
    "#Drop rows with missing values\n",
    "df = df.dropna()\n",
    "\n",
    "#Encode the categorical variables\n",
    "le = LabelEncoder()\n",
    "df['country'] = le.fit_transform(df['country'])\n",
    "df['current_land_use*'] = le.fit_transform(df['current_land_use*'])\n",
    "df['SOC_change_category'] = le.fit_transform(df['SOC_change_category'])\n",
    "\n",
    "#Split the data into training and testing sets\n",
    "X = df.drop('SOC_change_category', axis=1)\n",
    "y = df['SOC_change_category']\n",
    "X_train, X_test, y_train, y_test = train_test_split(X, y, test_size=0.2, random_state=42)\n",
    "\n",
    "#Train the Decision Tree Classifier\n",
    "clf = DecisionTreeClassifier()\n",
    "clf.fit(X_train, y_train)\n",
    "\n",
    "#Make predictions\n",
    "y_pred = clf.predict(X_test)\n",
    "\n",
    "#Calculate the accuracy\n",
    "accuracy = accuracy_score(y_test, y_pred)\n",
    "print('Accuracy:', accuracy)\n",
    "\n",
    "#Check the feature importances\n",
    "importances = clf.feature_importances_\n",
    "features = X.columns\n",
    "indices = np.argsort(importances)[::-1]\n",
    "\n",
    "plt.bar(range(X.shape[1]), importances[indices])\n",
    "plt.xticks(range(X.shape[1]), features[indices], rotation=90)\n",
    "plt.title('Feature Importances')\n",
    "plt.show()\n"
   ]
  }
 ],
 "metadata": {
  "colab": {
   "provenance": []
  },
  "kernelspec": {
   "display_name": "mgt-499-hfOBdtw9-py3.12",
   "language": "python",
   "name": "python3"
  },
  "language_info": {
   "codemirror_mode": {
    "name": "ipython",
    "version": 3
   },
   "file_extension": ".py",
   "mimetype": "text/x-python",
   "name": "python",
   "nbconvert_exporter": "python",
   "pygments_lexer": "ipython3",
   "version": "3.12.0"
  }
 },
 "nbformat": 4,
 "nbformat_minor": 0
}
