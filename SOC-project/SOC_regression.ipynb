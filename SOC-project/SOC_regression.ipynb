{
 "cells": [
  {
   "cell_type": "code",
   "execution_count": 3,
   "metadata": {},
   "outputs": [],
   "source": [
    "import pandas as pd\n",
    "import numpy as np\n",
    "import matplotlib.pyplot as plt\n",
    "import plotly as pltly\n",
    "import plotly.express as px\n",
    "import seaborn as sns\n",
    "import scipy.stats as stats\n",
    "import tap\n",
    "import pandas as pd\n",
    "from scipy.stats import skew, kurtosis"
   ]
  },
  {
   "cell_type": "code",
   "execution_count": 4,
   "metadata": {},
   "outputs": [
    {
     "name": "stdout",
     "output_type": "stream",
     "text": [
      "Requirement already satisfied: pycountry in c:\\users\\defrang\\appdata\\local\\pypoetry\\cache\\virtualenvs\\mgt-499-hfobdtw9-py3.12\\lib\\site-packages (24.6.1)\n",
      "Requirement already satisfied: pycountry-convert in c:\\users\\defrang\\appdata\\local\\pypoetry\\cache\\virtualenvs\\mgt-499-hfobdtw9-py3.12\\lib\\site-packages (0.7.2)\n",
      "Requirement already satisfied: pprintpp>=0.3.0 in c:\\users\\defrang\\appdata\\local\\pypoetry\\cache\\virtualenvs\\mgt-499-hfobdtw9-py3.12\\lib\\site-packages (from pycountry-convert) (0.4.0)\n",
      "Requirement already satisfied: pytest>=3.4.0 in c:\\users\\defrang\\appdata\\local\\pypoetry\\cache\\virtualenvs\\mgt-499-hfobdtw9-py3.12\\lib\\site-packages (from pycountry-convert) (7.4.4)\n",
      "Requirement already satisfied: pytest-mock>=1.6.3 in c:\\users\\defrang\\appdata\\local\\pypoetry\\cache\\virtualenvs\\mgt-499-hfobdtw9-py3.12\\lib\\site-packages (from pycountry-convert) (3.14.0)\n",
      "Requirement already satisfied: pytest-cov>=2.5.1 in c:\\users\\defrang\\appdata\\local\\pypoetry\\cache\\virtualenvs\\mgt-499-hfobdtw9-py3.12\\lib\\site-packages (from pycountry-convert) (6.0.0)\n",
      "Requirement already satisfied: repoze.lru>=0.7 in c:\\users\\defrang\\appdata\\local\\pypoetry\\cache\\virtualenvs\\mgt-499-hfobdtw9-py3.12\\lib\\site-packages (from pycountry-convert) (0.7)\n",
      "Requirement already satisfied: wheel>=0.30.0 in c:\\users\\defrang\\appdata\\local\\pypoetry\\cache\\virtualenvs\\mgt-499-hfobdtw9-py3.12\\lib\\site-packages (from pycountry-convert) (0.45.0)\n",
      "Requirement already satisfied: iniconfig in c:\\users\\defrang\\appdata\\local\\pypoetry\\cache\\virtualenvs\\mgt-499-hfobdtw9-py3.12\\lib\\site-packages (from pytest>=3.4.0->pycountry-convert) (2.0.0)\n",
      "Requirement already satisfied: packaging in c:\\users\\defrang\\appdata\\local\\pypoetry\\cache\\virtualenvs\\mgt-499-hfobdtw9-py3.12\\lib\\site-packages (from pytest>=3.4.0->pycountry-convert) (24.1)\n",
      "Requirement already satisfied: pluggy<2.0,>=0.12 in c:\\users\\defrang\\appdata\\local\\pypoetry\\cache\\virtualenvs\\mgt-499-hfobdtw9-py3.12\\lib\\site-packages (from pytest>=3.4.0->pycountry-convert) (1.5.0)\n",
      "Requirement already satisfied: colorama in c:\\users\\defrang\\appdata\\local\\pypoetry\\cache\\virtualenvs\\mgt-499-hfobdtw9-py3.12\\lib\\site-packages (from pytest>=3.4.0->pycountry-convert) (0.4.6)\n",
      "Requirement already satisfied: coverage>=7.5 in c:\\users\\defrang\\appdata\\local\\pypoetry\\cache\\virtualenvs\\mgt-499-hfobdtw9-py3.12\\lib\\site-packages (from coverage[toml]>=7.5->pytest-cov>=2.5.1->pycountry-convert) (7.6.4)\n",
      "Note: you may need to restart the kernel to use updated packages.\n"
     ]
    },
    {
     "name": "stderr",
     "output_type": "stream",
     "text": [
      "\n",
      "[notice] A new release of pip is available: 24.0 -> 24.3.1\n",
      "[notice] To update, run: python.exe -m pip install --upgrade pip\n"
     ]
    }
   ],
   "source": [
    "pip install pycountry pycountry-convert"
   ]
  },
  {
   "cell_type": "code",
   "execution_count": 5,
   "metadata": {},
   "outputs": [
    {
     "name": "stdout",
     "output_type": "stream",
     "text": [
      "(1605, 72)\n"
     ]
    }
   ],
   "source": [
    "#Read the csv file SOC perrenials DATABASE.csv from the subfolder SOC-project\n",
    "#This accesses a public github repository so all of us can run this file on our computers since the file is stored remotely\n",
    "df = pd.read_csv(r\"https://github.com/emmadefrang/MGT-499/raw/refs/heads/main/SOC-project/SOC%20perennials%20DATABASE.csv\",\n",
    "                 skiprows=1,\n",
    "                 encoding = 'cp1252')\n",
    "df.head()\n",
    "\n",
    "#Print the actual total number of rows and columns in the dataset\n",
    "print(df.shape)"
   ]
  },
  {
   "cell_type": "code",
   "execution_count": 6,
   "metadata": {},
   "outputs": [],
   "source": [
    "link = 'https://raw.githubusercontent.com/emmadefrang/MGT-499/refs/heads/main/SOC-project/land_use_change_rank.csv'\n",
    "\n",
    "luc_rank = pd.read_csv(link)"
   ]
  },
  {
   "cell_type": "code",
   "execution_count": 7,
   "metadata": {},
   "outputs": [
    {
     "data": {
      "text/plain": [
       "Index(['ID', 'IDstudy', 'plotID', 'country', 'region', 'temperature_Celsiul',\n",
       "       'precipitation_mm', 'climate', 'Latitud', 'Longitud', 'bedrock',\n",
       "       'soil_type', 'USDA', 'TYPE_CHANGE', 'CROP_current', 'CROP_type',\n",
       "       'cropAGE', 'current_land_use*', 'LUC_this_study', 'previous_land_use*',\n",
       "       'years_since_luc', 'TEMPORAL_only_this study', 'timeTEMPORAL',\n",
       "       'CHANGE_management', 'year_since_MANAGEMENT_CHANGE', 'soil_treatments',\n",
       "       'tillageYESNO', 'tillage_type', 'fertilizerYESNO', 'fet_type',\n",
       "       'rate_fertilizer_kh_ha', 'pesticides', 'org_amendYESNO',\n",
       "       'org_amend_type', 'prev_man', 'SINGLE_DATA-MULTIPLE_SINGLEAMPLING',\n",
       "       'DIF_DEPTH_current_point', 'CONTI_DEPTH', 'NUM_DEPTH', 'year_measure',\n",
       "       'N_plots_current', 'N_sample_per_plot_current', 'N_measured_current',\n",
       "       'soil_from_cm_current', 'soil_to_cm_current', 'depth_midpoint_current',\n",
       "       'bulk_density_Mg_m3_current', '%clay_current', '%silt_current',\n",
       "       '%sand_current', 'ph_current', 'SOC_g_kg_current', 'sd_SOC_gkg_current',\n",
       "       'SOC_Mg_ha_current', 'sd_SOC_Mgha_current', 'N_plots_previous',\n",
       "       'N_sample_per_plot_previous', 'N_measured_current.1',\n",
       "       'soil_from_cm_previous', 'soil_to_cm_previous',\n",
       "       'depth_midpoint_previous', 'Bulkdensity_previous', '%clay_previous',\n",
       "       '%silt_previous', '%sand_previous', 'ph_previous', 'SOC_g_kg_previous',\n",
       "       'sd_SOC_gkg_previous', 'SOC_Mg_ha_previous', 'sd_SOC_Mgha_previous',\n",
       "       'yearPpub', 'Original_source'],\n",
       "      dtype='object')"
      ]
     },
     "execution_count": 7,
     "metadata": {},
     "output_type": "execute_result"
    }
   ],
   "source": [
    "df.columns"
   ]
  },
  {
   "cell_type": "code",
   "execution_count": 8,
   "metadata": {},
   "outputs": [
    {
     "name": "stdout",
     "output_type": "stream",
     "text": [
      "   ID  IDstudy  plotID country    region  temperature_Celsiul  \\\n",
      "0   1        1       1  Brazil  SaoPaulo                 21.0   \n",
      "1   2        1       1  Brazil  SaoPaulo                 21.0   \n",
      "2   3        1       1  Brazil  SaoPaulo                 21.0   \n",
      "3   4        1       1  Brazil  SaoPaulo                 21.0   \n",
      "4   5        1       2  Brazil  SaoPaulo                 21.0   \n",
      "\n",
      "   precipitation_mm   climate  Latitud  Longitud  ... %clay_previous  \\\n",
      "0            1500.0  Tropical   -21.35   -47.066  ...           19.2   \n",
      "1            1500.0  Tropical   -21.35   -47.066  ...           21.7   \n",
      "2            1500.0  Tropical   -21.35   -47.066  ...           24.8   \n",
      "3            1500.0  Tropical   -21.35   -47.066  ...           24.8   \n",
      "4            1500.0  Tropical   -21.35   -47.066  ...           42.9   \n",
      "\n",
      "  %silt_previous %sand_previous ph_previous SOC_g_kg_previous  \\\n",
      "0           10.4           70.5         NaN               NaN   \n",
      "1            8.9           69.3         NaN               NaN   \n",
      "2            8.7           66.5         NaN               NaN   \n",
      "3            9.2           66.0         NaN               NaN   \n",
      "4           11.4           45.7         NaN               NaN   \n",
      "\n",
      "  sd_SOC_gkg_previous  SOC_Mg_ha_previous sd_SOC_Mgha_previous yearPpub  \\\n",
      "0                 NaN               17.39                  NaN   2017.0   \n",
      "1                 NaN               15.57                  NaN   2017.0   \n",
      "2                 NaN               55.38                  NaN   2017.0   \n",
      "3                 NaN               36.10                  NaN   2017.0   \n",
      "4                 NaN               16.28                  NaN   2017.0   \n",
      "\n",
      "                                     Original_source  \n",
      "0  de Oliveira Bordonal, Ricardo, et al., 2017 Ch...  \n",
      "1  de Oliveira Bordonal, Ricardo, et al., 2017 Ch...  \n",
      "2  de Oliveira Bordonal, Ricardo, et al., 2017 Ch...  \n",
      "3  de Oliveira Bordonal, Ricardo, et al., 2017 Ch...  \n",
      "4  de Oliveira Bordonal, Ricardo, et al., 2017 Ch...  \n",
      "\n",
      "[5 rows x 72 columns]\n"
     ]
    }
   ],
   "source": [
    "# Filter out rows where SOC stock is NaN for both current and previous\n",
    "df = df[(~df['SOC_Mg_ha_current'].isna()) | (~df['SOC_Mg_ha_previous'].isna())]\n",
    "\n",
    "df = df[df['CHANGE_management'] == 'NO']\n",
    "\n",
    "print(df.head())\n"
   ]
  },
  {
   "cell_type": "code",
   "execution_count": 9,
   "metadata": {},
   "outputs": [
    {
     "name": "stdout",
     "output_type": "stream",
     "text": [
      "703\n",
      "584\n"
     ]
    }
   ],
   "source": [
    "#How many observations are we missing pH for\n",
    "print(df['ph_previous'].isna().sum())\n",
    "print(df['ph_current'].isna().sum())"
   ]
  },
  {
   "cell_type": "code",
   "execution_count": 10,
   "metadata": {},
   "outputs": [
    {
     "name": "stdout",
     "output_type": "stream",
     "text": [
      "(260, 72)\n"
     ]
    }
   ],
   "source": [
    "#Only keep the rows where we have a value for pH for both current and previous. We will call this a new dataframe so we can test its performance \n",
    "#against the model that will neglect pH\n",
    "\n",
    "df_ph = df[(~df['ph_previous'].isna()) & (~df['ph_current'].isna())]\n",
    "\n",
    "print(df_ph.shape)"
   ]
  },
  {
   "cell_type": "code",
   "execution_count": 11,
   "metadata": {},
   "outputs": [
    {
     "name": "stdout",
     "output_type": "stream",
     "text": [
      "   ID  IDstudy  plotID country    region   climate  temperature  \\\n",
      "0   1        1       1  Brazil  SaoPaulo  Tropical         21.0   \n",
      "1   2        1       1  Brazil  SaoPaulo  Tropical         21.0   \n",
      "2   3        1       1  Brazil  SaoPaulo  Tropical         21.0   \n",
      "3   4        1       1  Brazil  SaoPaulo  Tropical         21.0   \n",
      "4   5        1       2  Brazil  SaoPaulo  Tropical         21.0   \n",
      "\n",
      "   precipitation  clay  silt  sand  SOC_Mg_ha  soil_from_cm  soil_to_cm  \\\n",
      "0         1500.0  13.7   5.1  81.2      20.70           0.0        10.0   \n",
      "1         1500.0  14.8   1.1  84.2      12.54          10.0        20.0   \n",
      "2         1500.0  18.0   2.0  80.0      30.92          20.0        60.0   \n",
      "3         1500.0  18.8   3.5  77.7      36.23          60.0       100.0   \n",
      "4         1500.0  38.1  10.9  51.0      16.43           0.0        10.0   \n",
      "\n",
      "   depth_midpoint   Period  \n",
      "0             5.0  Current  \n",
      "1            15.0  Current  \n",
      "2            40.0  Current  \n",
      "3            80.0  Current  \n",
      "4             5.0  Current  \n"
     ]
    }
   ],
   "source": [
    "# Create separate dataframes for 'current' and 'previous' data\n",
    "current_df = df[['ID', 'IDstudy', 'plotID', 'country', 'region', 'climate', 'temperature_Celsiul', 'precipitation_mm', '%clay_current', '%silt_current', '%sand_current', \n",
    "                 'ph_current', 'SOC_Mg_ha_current', 'soil_from_cm_current', 'soil_to_cm_current', 'depth_midpoint_current']].copy()\n",
    "previous_df = df[['ID', 'IDstudy', 'plotID', 'country', 'region', 'climate', 'temperature_Celsiul', 'precipitation_mm', '%clay_previous', '%silt_previous', '%sand_previous', \n",
    "                  'ph_previous', 'SOC_Mg_ha_previous', 'soil_from_cm_previous', 'soil_to_cm_previous', 'depth_midpoint_previous']].copy()\n",
    "\n",
    "# Rename columns for clarity\n",
    "current_df.columns = ['ID', 'IDstudy', 'plotID', 'country', 'region', 'climate', 'temperature', 'precipitation', 'clay', 'silt', 'sand', 'pH', 'SOC_Mg_ha', 'soil_from_cm', 'soil_to_cm', 'depth_midpoint']\n",
    "previous_df.columns = ['ID', 'IDstudy', 'plotID', 'country', 'region', 'climate', 'temperature', 'precipitation', 'clay', 'silt', 'sand', 'pH', 'SOC_Mg_ha', 'soil_from_cm', 'soil_to_cm', 'depth_midpoint']\n",
    "\n",
    "# Add a column to indicate current vs previous\n",
    "current_df['Period'] = 'Current'\n",
    "previous_df['Period'] = 'Previous'\n",
    "\n",
    "# Concatenate the dataframes\n",
    "combined_df = pd.concat([current_df, previous_df], ignore_index=True)\n",
    "\n",
    "# Drop rows with NaN SOC_Mg_ha\n",
    "combined_df.dropna(subset=['SOC_Mg_ha'], inplace=True)\n",
    "\n",
    "# Remove the pH column\n",
    "combined_df = combined_df.drop(columns=['pH'])\n",
    "\n",
    "print(combined_df.head())"
   ]
  },
  {
   "cell_type": "code",
   "execution_count": 12,
   "metadata": {},
   "outputs": [
    {
     "name": "stdout",
     "output_type": "stream",
     "text": [
      "ID                   0\n",
      "IDstudy              0\n",
      "plotID               0\n",
      "country              0\n",
      "region               0\n",
      "climate              0\n",
      "temperature         26\n",
      "precipitation       18\n",
      "clay              1217\n",
      "silt              1221\n",
      "sand              1305\n",
      "SOC_Mg_ha            0\n",
      "soil_from_cm         0\n",
      "soil_to_cm           0\n",
      "depth_midpoint       0\n",
      "Period               0\n",
      "dtype: int64\n"
     ]
    },
    {
     "data": {
      "text/plain": [
       "(612, 16)"
      ]
     },
     "execution_count": 12,
     "metadata": {},
     "output_type": "execute_result"
    }
   ],
   "source": [
    "#How many NaN values do we have left in the dataset\n",
    "print(combined_df.isna().sum())\n",
    "\n",
    "#How long is the dataset now\n",
    "combined_df.shape\n",
    "\n",
    "#Drop all rows with NaN values\n",
    "combined_df = combined_df.dropna()\n",
    "\n",
    "#How long is the dataset now\n",
    "combined_df.shape"
   ]
  },
  {
   "cell_type": "code",
   "execution_count": 13,
   "metadata": {},
   "outputs": [],
   "source": [
    "# Define your feature set (X) and target variable (y)\n",
    "features = ['temperature', 'precipitation', 'clay', 'silt', 'sand','depth_midpoint']\n",
    "X = combined_df[features]\n",
    "y = combined_df['SOC_Mg_ha']"
   ]
  },
  {
   "cell_type": "code",
   "execution_count": 14,
   "metadata": {},
   "outputs": [],
   "source": [
    "# Encode the 'Period' variable and add interaction terms\n",
    "combined_df['Period'] = combined_df['Period'].map({'Current': 1, 'Previous': 0})\n",
    "for feature in features:\n",
    "    combined_df[f'{feature}_x_Period'] = combined_df[feature] * combined_df['Period']\n",
    "\n",
    "# Update feature set to include interaction terms\n",
    "interaction_features = features + [f'{feature}_x_Period' for feature in features]\n",
    "X = combined_df[interaction_features]\n"
   ]
  },
  {
   "cell_type": "code",
   "execution_count": 15,
   "metadata": {},
   "outputs": [
    {
     "name": "stdout",
     "output_type": "stream",
     "text": [
      "                            OLS Regression Results                            \n",
      "==============================================================================\n",
      "Dep. Variable:              SOC_Mg_ha   R-squared:                       0.590\n",
      "Model:                            OLS   Adj. R-squared:                  0.581\n",
      "Method:                 Least Squares   F-statistic:                     71.72\n",
      "Date:                Thu, 14 Nov 2024   Prob (F-statistic):          2.14e-107\n",
      "Time:                        13:38:54   Log-Likelihood:                -3027.9\n",
      "No. Observations:                 612   AIC:                             6082.\n",
      "Df Residuals:                     599   BIC:                             6139.\n",
      "Df Model:                          12                                         \n",
      "Covariance Type:            nonrobust                                         \n",
      "===========================================================================================\n",
      "                              coef    std err          t      P>|t|      [0.025      0.975]\n",
      "-------------------------------------------------------------------------------------------\n",
      "const                       5.4292     30.467      0.178      0.859     -54.406      65.265\n",
      "temperature                 0.3112      0.472      0.659      0.510      -0.616       1.238\n",
      "precipitation              -0.0278      0.007     -3.867      0.000      -0.042      -0.014\n",
      "clay                        2.4304      0.342      7.112      0.000       1.759       3.101\n",
      "silt                       -0.2284      0.310     -0.736      0.462      -0.838       0.381\n",
      "sand                       -0.0444      0.312     -0.142      0.887      -0.658       0.569\n",
      "depth_midpoint             -0.0377      0.086     -0.436      0.663      -0.207       0.132\n",
      "temperature_x_Period        0.5274      0.772      0.683      0.495      -0.989       2.043\n",
      "precipitation_x_Period      0.0309      0.011      2.901      0.004       0.010       0.052\n",
      "clay_x_Period              -0.5087      0.262     -1.945      0.052      -1.022       0.005\n",
      "silt_x_Period              -0.2451      0.106     -2.312      0.021      -0.453      -0.037\n",
      "sand_x_Period              -0.0944      0.126     -0.749      0.454      -0.342       0.153\n",
      "depth_midpoint_x_Period    -0.2062      0.130     -1.590      0.112      -0.461       0.048\n",
      "==============================================================================\n",
      "Omnibus:                       23.590   Durbin-Watson:                   0.568\n",
      "Prob(Omnibus):                  0.000   Jarque-Bera (JB):               29.441\n",
      "Skew:                           0.387   Prob(JB):                     4.04e-07\n",
      "Kurtosis:                       3.746   Cond. No.                     2.09e+04\n",
      "==============================================================================\n",
      "\n",
      "Notes:\n",
      "[1] Standard Errors assume that the covariance matrix of the errors is correctly specified.\n",
      "[2] The condition number is large, 2.09e+04. This might indicate that there are\n",
      "strong multicollinearity or other numerical problems.\n"
     ]
    }
   ],
   "source": [
    "import statsmodels.api as sm\n",
    "\n",
    "# Add a constant for the intercept\n",
    "X = sm.add_constant(X)\n",
    "\n",
    "# Fit the model\n",
    "model = sm.OLS(y, X).fit()\n",
    "\n",
    "# Print the summary of the regression results\n",
    "print(model.summary())\n"
   ]
  },
  {
   "cell_type": "markdown",
   "metadata": {},
   "source": [
    "Our R2 value is relatively high for the dataset and we see that annual mean precipitation and clay are signficant predictors of SOC, but there is also \n",
    "a significant period x clay and period x silt and period x precipitation effect. We need to explore what this means. \n",
    "\n",
    "For now, let's see if we can improve our model by controlling for country fixed effects. This could control for things such as how different countries may have different soil types and climates. "
   ]
  },
  {
   "cell_type": "code",
   "execution_count": null,
   "metadata": {},
   "outputs": [
    {
     "name": "stdout",
     "output_type": "stream",
     "text": [
      "  country      continent\n",
      "0  Brazil  South America\n",
      "1  Brazil  South America\n",
      "2  Brazil  South America\n",
      "3  Brazil  South America\n",
      "4  Brazil  South America\n",
      "       country      continent\n",
      "0       Brazil  South America\n",
      "27     Germany         Europe\n",
      "72    Cameroon         Africa\n",
      "146  Venezuela  South America\n",
      "164    Ireland         Europe\n",
      "180     France         Europe\n",
      "186        USA  North America\n",
      "238         UK        Unknown\n",
      "248      Ghana         Africa\n",
      "266      Spain         Europe\n",
      "775      italy         Europe\n",
      "791   Portugal         Europe\n"
     ]
    }
   ],
   "source": [
    "import pandas as pd\n",
    "import pycountry\n",
    "import pycountry_convert as pc\n",
    "\n",
    "def get_continent(country_name):\n",
    "    try:\n",
    "        # Get the Alpha-2 country code\n",
    "        country_code = pycountry.countries.lookup(country_name).alpha_2\n",
    "        # Convert Alpha-2 country code to continent code\n",
    "        continent_code = pc.country_alpha2_to_continent_code(country_code)\n",
    "        # Map continent codes to names\n",
    "        continent_dict = {\n",
    "            'AF': 'Africa',\n",
    "            'AS': 'Asia',\n",
    "            'EU': 'Europe',\n",
    "            'NA': 'North America',\n",
    "            'SA': 'South America',\n",
    "            'OC': 'Oceania',\n",
    "            'AN': 'Antarctica'\n",
    "        }\n",
    "        return continent_dict[continent_code]\n",
    "    except:\n",
    "        return 'Unknown'\n",
    "    \n",
    "# Example usage on your DataFrame\n",
    "# Assuming your DataFrame is called combined_df with a 'country' column\n",
    "combined_df['continent'] = combined_df['country'].apply(get_continent)\n",
    "\n",
    "# Display the first few rows to verify\n",
    "print(combined_df[['country', 'continent']].head())\n",
    "\n",
    "\n"
   ]
  },
  {
   "cell_type": "code",
   "execution_count": 17,
   "metadata": {},
   "outputs": [
    {
     "name": "stdout",
     "output_type": "stream",
     "text": [
      "                            OLS Regression Results                            \n",
      "==============================================================================\n",
      "Dep. Variable:              SOC_Mg_ha   R-squared:                       0.903\n",
      "Model:                            OLS   Adj. R-squared:                  0.900\n",
      "Method:                 Least Squares   F-statistic:                     291.2\n",
      "Date:                Thu, 14 Nov 2024   Prob (F-statistic):          1.79e-285\n",
      "Time:                        13:38:54   Log-Likelihood:                -2585.5\n",
      "No. Observations:                 612   AIC:                             5211.\n",
      "Df Residuals:                     592   BIC:                             5299.\n",
      "Df Model:                          19                                         \n",
      "Covariance Type:            nonrobust                                         \n",
      "===============================================================================================\n",
      "                                  coef    std err          t      P>|t|      [0.025      0.975]\n",
      "-----------------------------------------------------------------------------------------------\n",
      "Intercept                      27.2328     15.078      1.806      0.071      -2.379      56.845\n",
      "C(country)[T.Cameroon]         -5.6963     12.242     -0.465      0.642     -29.740      18.348\n",
      "C(country)[T.France]          -28.0549     10.907     -2.572      0.010     -49.476      -6.634\n",
      "C(country)[T.Germany]         -42.9405      3.447    -12.456      0.000     -49.711     -36.170\n",
      "C(country)[T.Ghana]             1.4944      8.943      0.167      0.867     -16.069      19.058\n",
      "C(country)[T.Ireland]          21.2592      5.146      4.132      0.000      11.153      31.365\n",
      "C(country)[T.Portugal]         38.8563      7.999      4.858      0.000      23.147      54.566\n",
      "C(country)[T.Spain]           -13.8400      5.116     -2.705      0.007     -23.888      -3.792\n",
      "C(country)[T.UK]                6.6422      8.132      0.817      0.414      -9.329      22.613\n",
      "C(country)[T.USA]               0.6898      3.479      0.198      0.843      -6.143       7.522\n",
      "C(country)[T.Venezuela]       166.0497      5.121     32.425      0.000     155.992     176.107\n",
      "C(country)[T.italy]             3.2634      9.373      0.348      0.728     -15.145      21.672\n",
      "C(climate)[T.Boreal]           34.8867      5.790      6.026      0.000      23.516      46.257\n",
      "C(climate)[T.Mediterranean]    28.2797      4.767      5.932      0.000      18.917      37.643\n",
      "C(climate)[T.Temperate]        54.9095      5.221     10.518      0.000      44.656      65.163\n",
      "C(climate)[T.Tropical]         41.3573      5.524      7.486      0.000      30.507      52.207\n",
      "temperature                    -1.3050      0.367     -3.553      0.000      -2.026      -0.584\n",
      "precipitation                  -0.0097      0.003     -3.208      0.001      -0.016      -0.004\n",
      "clay                            0.5162      0.176      2.932      0.003       0.170       0.862\n",
      "silt                           -0.1176      0.159     -0.740      0.460      -0.430       0.195\n",
      "sand                           -0.1375      0.158     -0.868      0.386      -0.449       0.174\n",
      "depth_midpoint                 -0.0143      0.033     -0.433      0.665      -0.079       0.051\n",
      "==============================================================================\n",
      "Omnibus:                      195.079   Durbin-Watson:                   1.218\n",
      "Prob(Omnibus):                  0.000   Jarque-Bera (JB):              645.103\n",
      "Skew:                           1.500   Prob(JB):                    8.27e-141\n",
      "Kurtosis:                       7.038   Cond. No.                     3.53e+18\n",
      "==============================================================================\n",
      "\n",
      "Notes:\n",
      "[1] Standard Errors assume that the covariance matrix of the errors is correctly specified.\n",
      "[2] The smallest eigenvalue is 3.58e-29. This might indicate that there are\n",
      "strong multicollinearity problems or that the design matrix is singular.\n"
     ]
    }
   ],
   "source": [
    "import pandas as pd\n",
    "import statsmodels.api as sm\n",
    "import statsmodels.formula.api as smf\n",
    "\n",
    "#First, let's use country as a fixed effect\n",
    "\n",
    "# Assume 'combined_df' is your cleaned DataFrame with relevant variables\n",
    "# Create a cateforical variable for 'continent'\n",
    "combined_df['country'] = combined_df['country'].astype('category')\n",
    "\n",
    "#Let's also try to account for the fixed effects of different climate types\n",
    "# Convert 'climate' to a categorical variable\n",
    "combined_df['climate'] = combined_df['climate'].astype('category')\n",
    "\n",
    "# Define the regression formula with fixed effects (country) and other predictors\n",
    "formula = 'SOC_Mg_ha ~ temperature + precipitation + clay + silt + sand + C(country) + depth_midpoint + C(climate)'\n",
    "\n",
    "# Fit the model using Ordinary Least Squares (OLS)\n",
    "model = smf.ols(formula=formula, data=combined_df).fit()\n",
    "\n",
    "# Print the summary of the model\n",
    "print(model.summary())\n"
   ]
  },
  {
   "cell_type": "code",
   "execution_count": 18,
   "metadata": {},
   "outputs": [
    {
     "name": "stdout",
     "output_type": "stream",
     "text": [
      "                            OLS Regression Results                            \n",
      "==============================================================================\n",
      "Dep. Variable:              SOC_Mg_ha   R-squared:                       0.679\n",
      "Model:                            OLS   Adj. R-squared:                  0.672\n",
      "Method:                 Least Squares   F-statistic:                     97.38\n",
      "Date:                Thu, 14 Nov 2024   Prob (F-statistic):          4.37e-138\n",
      "Time:                        13:38:54   Log-Likelihood:                -2952.6\n",
      "No. Observations:                 612   AIC:                             5933.\n",
      "Df Residuals:                     598   BIC:                             5995.\n",
      "Df Model:                          13                                         \n",
      "Covariance Type:            nonrobust                                         \n",
      "=================================================================================================\n",
      "                                    coef    std err          t      P>|t|      [0.025      0.975]\n",
      "-------------------------------------------------------------------------------------------------\n",
      "Intercept                       -50.0756     23.600     -2.122      0.034     -96.425      -3.726\n",
      "C(continent)[T.Europe]          -44.3187      8.413     -5.268      0.000     -60.841     -27.796\n",
      "C(continent)[T.North America]   -24.0937      8.369     -2.879      0.004     -40.530      -7.657\n",
      "C(continent)[T.South America]     2.0372     13.482      0.151      0.880     -24.441      28.515\n",
      "C(continent)[T.Unknown]          23.8908     14.559      1.641      0.101      -4.703      52.484\n",
      "C(climate)[T.Boreal]             72.6389     10.282      7.065      0.000      52.445      92.832\n",
      "C(climate)[T.Mediterranean]      40.5329     10.789      3.757      0.000      19.345      61.721\n",
      "C(climate)[T.Temperate]          97.6383      9.182     10.633      0.000      79.605     115.672\n",
      "C(climate)[T.Tropical]           -5.5540     13.211     -0.420      0.674     -31.501      20.393\n",
      "temperature                       4.1270      0.596      6.919      0.000       2.956       5.298\n",
      "precipitation                    -0.0240      0.005     -4.597      0.000      -0.034      -0.014\n",
      "clay                              2.0774      0.296      7.011      0.000       1.496       2.659\n",
      "silt                             -0.6107      0.279     -2.191      0.029      -1.158      -0.063\n",
      "sand                             -0.1575      0.278     -0.566      0.572      -0.704       0.389\n",
      "depth_midpoint                   -0.2594      0.058     -4.450      0.000      -0.374      -0.145\n",
      "==============================================================================\n",
      "Omnibus:                       20.583   Durbin-Watson:                   0.646\n",
      "Prob(Omnibus):                  0.000   Jarque-Bera (JB):               35.232\n",
      "Skew:                           0.235   Prob(JB):                     2.24e-08\n",
      "Kurtosis:                       4.077   Cond. No.                     1.09e+19\n",
      "==============================================================================\n",
      "\n",
      "Notes:\n",
      "[1] Standard Errors assume that the covariance matrix of the errors is correctly specified.\n",
      "[2] The smallest eigenvalue is 3.77e-30. This might indicate that there are\n",
      "strong multicollinearity problems or that the design matrix is singular.\n"
     ]
    }
   ],
   "source": [
    "import pandas as pd\n",
    "import statsmodels.api as sm\n",
    "import statsmodels.formula.api as smf\n",
    "\n",
    "# Assume 'combined_df' is your cleaned DataFrame with relevant variables\n",
    "# Create a cateforical variable for 'continent'\n",
    "combined_df['continent'] = combined_df['continent'].astype('category')\n",
    "\n",
    "#Let's also try to account for the fixed effects of different climate types\n",
    "# Convert 'climate' to a categorical variable\n",
    "combined_df['climate'] = combined_df['climate'].astype('category')\n",
    "\n",
    "# Define the regression formula with fixed effects (country) and other predictors\n",
    "formula = 'SOC_Mg_ha ~ temperature + precipitation + clay + silt + sand + C(continent) + depth_midpoint + C(climate)'\n",
    "\n",
    "# Fit the model using Ordinary Least Squares (OLS)\n",
    "model = smf.ols(formula=formula, data=combined_df).fit()\n",
    "\n",
    "# Print the summary of the model\n",
    "print(model.summary())\n"
   ]
  },
  {
   "cell_type": "code",
   "execution_count": 19,
   "metadata": {},
   "outputs": [
    {
     "name": "stdout",
     "output_type": "stream",
     "text": [
      "    ID  IDstudy  plotID     country         region  temperature_Celsiul  \\\n",
      "25  26        4       8  New_Zeland  Bay_of_Plenty                 14.5   \n",
      "26  27        4       8  New_Zeland  Bay_of_Plenty                 14.5   \n",
      "27  28        4       8  New_Zeland  Bay_of_Plenty                 14.5   \n",
      "28  29        4       8  New_Zeland  Bay_of_Plenty                 14.5   \n",
      "29  30        4       8  New_Zeland  Bay_of_Plenty                 14.5   \n",
      "\n",
      "    precipitation_mm    climate  Latitud  Longitud  ... %clay_previous  \\\n",
      "25             138.0  Temperate  -37.616   175.916  ...            NaN   \n",
      "26             138.0  Temperate  -37.616   175.916  ...            NaN   \n",
      "27             138.0  Temperate  -37.616   175.916  ...            NaN   \n",
      "28             138.0  Temperate  -37.616   175.916  ...            NaN   \n",
      "29             138.0  Temperate  -37.616   175.916  ...            NaN   \n",
      "\n",
      "   %silt_previous %sand_previous ph_previous SOC_g_kg_previous  \\\n",
      "25            NaN            NaN        5.96               NaN   \n",
      "26            NaN            NaN        5.79               NaN   \n",
      "27            NaN            NaN        5.81               NaN   \n",
      "28            NaN            NaN        5.87               NaN   \n",
      "29            NaN            NaN        5.87               NaN   \n",
      "\n",
      "   sd_SOC_gkg_previous  SOC_Mg_ha_previous sd_SOC_Mgha_previous yearPpub  \\\n",
      "25                 NaN               606.0                  NaN   2015.0   \n",
      "26                 NaN                96.6                  NaN   2015.0   \n",
      "27                 NaN               209.0                  NaN   2015.0   \n",
      "28                 NaN                34.3                  NaN   2015.0   \n",
      "29                 NaN                13.6                  NaN   2015.0   \n",
      "\n",
      "                                      Original_source  \n",
      "25  Holmes, A., Müller, K., Clothier, B. and Deure...  \n",
      "26  Holmes, A., Müller, K., Clothier, B. and Deure...  \n",
      "27  Holmes, A., Müller, K., Clothier, B. and Deure...  \n",
      "28  Holmes, A., Müller, K., Clothier, B. and Deure...  \n",
      "29  Holmes, A., Müller, K., Clothier, B. and Deure...  \n",
      "\n",
      "[5 rows x 72 columns]\n"
     ]
    }
   ],
   "source": [
    "print(df_ph.head())"
   ]
  },
  {
   "cell_type": "code",
   "execution_count": 20,
   "metadata": {},
   "outputs": [
    {
     "name": "stdout",
     "output_type": "stream",
     "text": [
      "    ID  IDstudy  plotID  temperature  precipitation  clay  silt  sand    pH  \\\n",
      "11  61        6      15          9.1          714.0  22.8  74.8   2.4  7.38   \n",
      "12  62        6      16          9.1          714.0  22.8  74.8   2.4  7.38   \n",
      "13  63        6      17          9.1          714.0  22.8  74.8   2.4  7.38   \n",
      "14  64        6      15          9.1          714.0  22.8  74.8   2.4  7.38   \n",
      "15  65        6      16          9.1          714.0  22.8  74.8   2.4  7.38   \n",
      "\n",
      "    SOC_Mg_ha  soil_from_cm  soil_to_cm  depth_midpoint   Period  \n",
      "11       16.0           0.0        10.0             5.0  Current  \n",
      "12       16.1           0.0        10.0             5.0  Current  \n",
      "13       18.4           0.0        10.0             5.0  Current  \n",
      "14       13.4          10.0        20.0            15.0  Current  \n",
      "15       13.4          10.0        20.0            15.0  Current  \n"
     ]
    }
   ],
   "source": [
    "# Create separate dataframes for 'current' and 'previous' data\n",
    "current_df_ph = df_ph[['ID', 'IDstudy', 'plotID', 'temperature_Celsiul', 'precipitation_mm', '%clay_current', '%silt_current', '%sand_current', \n",
    "                 'ph_current', 'SOC_Mg_ha_current', 'soil_from_cm_current', 'soil_to_cm_current', 'depth_midpoint_current']].copy()\n",
    "previous_df_ph = df_ph[['ID', 'IDstudy', 'plotID', 'temperature_Celsiul', 'precipitation_mm', '%clay_previous', '%silt_previous', '%sand_previous', \n",
    "                  'ph_previous', 'SOC_Mg_ha_previous', 'soil_from_cm_previous', 'soil_to_cm_previous', 'depth_midpoint_previous']].copy()\n",
    "\n",
    "# Rename columns for clarity\n",
    "current_df_ph.columns = ['ID', 'IDstudy', 'plotID', 'temperature', 'precipitation', 'clay', 'silt', 'sand', 'pH', 'SOC_Mg_ha', 'soil_from_cm', 'soil_to_cm', 'depth_midpoint']\n",
    "previous_df_ph.columns = ['ID', 'IDstudy', 'plotID', 'temperature', 'precipitation', 'clay', 'silt', 'sand', 'pH', 'SOC_Mg_ha', 'soil_from_cm', 'soil_to_cm', 'depth_midpoint']\n",
    "\n",
    "# Add a column to indicate current vs previous\n",
    "current_df_ph['Period'] = 'Current'\n",
    "previous_df_ph['Period'] = 'Previous'\n",
    "\n",
    "# Concatenate the dataframes\n",
    "combined_df_ph = pd.concat([current_df_ph, previous_df_ph], ignore_index=True)\n",
    "\n",
    "# Drop rows with NaN SOC_Mg_ha\n",
    "combined_df_ph.dropna(subset=['SOC_Mg_ha'], inplace=True)\n",
    "\n",
    "# Drop rows with NaN clay, silt, or sand content\n",
    "combined_df_ph.dropna(subset=['clay', 'silt', 'sand'], inplace=True)\n",
    "\n",
    "print(combined_df_ph.head())\n"
   ]
  },
  {
   "cell_type": "code",
   "execution_count": 21,
   "metadata": {},
   "outputs": [
    {
     "name": "stdout",
     "output_type": "stream",
     "text": [
      "                            OLS Regression Results                            \n",
      "==============================================================================\n",
      "Dep. Variable:              SOC_Mg_ha   R-squared:                       0.384\n",
      "Model:                            OLS   Adj. R-squared:                  0.357\n",
      "Method:                 Least Squares   F-statistic:                     14.30\n",
      "Date:                Thu, 14 Nov 2024   Prob (F-statistic):           1.54e-26\n",
      "Time:                        13:38:54   Log-Likelihood:                -1394.7\n",
      "No. Observations:                 336   AIC:                             2819.\n",
      "Df Residuals:                     321   BIC:                             2877.\n",
      "Df Model:                          14                                         \n",
      "Covariance Type:            nonrobust                                         \n",
      "===========================================================================================\n",
      "                              coef    std err          t      P>|t|      [0.025      0.975]\n",
      "-------------------------------------------------------------------------------------------\n",
      "const                      75.4305     17.770      4.245      0.000      40.471     110.390\n",
      "temperature                -1.2037      0.499     -2.414      0.016      -2.185      -0.223\n",
      "precipitation              -0.0073      0.005     -1.487      0.138      -0.017       0.002\n",
      "clay                        1.0858      0.242      4.495      0.000       0.611       1.561\n",
      "silt                       -0.1754      0.198     -0.887      0.375      -0.564       0.213\n",
      "sand                       -0.2473      0.176     -1.406      0.161      -0.593       0.099\n",
      "pH                         -5.8398      1.820     -3.209      0.001      -9.420      -2.259\n",
      "depth_midpoint             -0.2767      0.056     -4.905      0.000      -0.388      -0.166\n",
      "temperature_x_Period        0.6831      0.744      0.918      0.359      -0.780       2.147\n",
      "precipitation_x_Period     -0.0036      0.007     -0.518      0.605      -0.017       0.010\n",
      "clay_x_Period              -0.1183      0.284     -0.416      0.678      -0.678       0.441\n",
      "silt_x_Period               0.1506      0.202      0.746      0.456      -0.246       0.548\n",
      "sand_x_Period               0.1572      0.144      1.090      0.277      -0.127       0.441\n",
      "pH_x_Period                -2.2267      2.381     -0.935      0.350      -6.912       2.458\n",
      "depth_midpoint_x_Period     0.1008      0.076      1.335      0.183      -0.048       0.249\n",
      "==============================================================================\n",
      "Omnibus:                       43.498   Durbin-Watson:                   1.086\n",
      "Prob(Omnibus):                  0.000   Jarque-Bera (JB):               71.884\n",
      "Skew:                           0.776   Prob(JB):                     2.46e-16\n",
      "Kurtosis:                       4.652   Cond. No.                     1.83e+04\n",
      "==============================================================================\n",
      "\n",
      "Notes:\n",
      "[1] Standard Errors assume that the covariance matrix of the errors is correctly specified.\n",
      "[2] The condition number is large, 1.83e+04. This might indicate that there are\n",
      "strong multicollinearity or other numerical problems.\n"
     ]
    }
   ],
   "source": [
    "#Let's repeat the same process but this time we will include only data for which we have pH values, and see if the model performs better\n",
    "\n",
    "\n",
    "# Define your feature set (X) and target variable (y)\n",
    "features = ['temperature', 'precipitation', 'clay', 'silt', 'sand', 'pH', 'depth_midpoint']\n",
    "X = combined_df_ph[features]\n",
    "y = combined_df_ph['SOC_Mg_ha']\n",
    "\n",
    "# Encode the 'Period' variable and add interaction terms\n",
    "combined_df_ph['Period'] = combined_df_ph['Period'].map({'Current': 1, 'Previous': 0})\n",
    "for feature in features:\n",
    "    combined_df_ph[f'{feature}_x_Period'] = combined_df_ph[feature] * combined_df_ph['Period']\n",
    "\n",
    "# Update feature set to include interaction terms\n",
    "interaction_features = features + [f'{feature}_x_Period' for feature in features]\n",
    "\n",
    "X = combined_df_ph[interaction_features]\n",
    "\n",
    "# Add a constant for the intercept\n",
    "X = sm.add_constant(X)\n",
    "\n",
    "# Fit the model\n",
    "model = sm.OLS(y, X).fit()\n",
    "\n",
    "# Print the summary of the regression results\n",
    "print(model.summary())\n"
   ]
  },
  {
   "cell_type": "markdown",
   "metadata": {},
   "source": [
    "We can see from the results of this second regression that the model performs best when neglect pH because there are so many NaN values for pH, that\n",
    "choosing to drop it as a variable allows us to keep more of our data for the regression. "
   ]
  },
  {
   "cell_type": "code",
   "execution_count": 22,
   "metadata": {},
   "outputs": [
    {
     "name": "stdout",
     "output_type": "stream",
     "text": [
      "   ID  IDstudy  plotID country    region   climate  temperature_Celsiul  \\\n",
      "0   1        1       1  Brazil  SaoPaulo  Tropical                 21.0   \n",
      "1   2        1       1  Brazil  SaoPaulo  Tropical                 21.0   \n",
      "2   3        1       1  Brazil  SaoPaulo  Tropical                 21.0   \n",
      "3   4        1       1  Brazil  SaoPaulo  Tropical                 21.0   \n",
      "4   5        1       2  Brazil  SaoPaulo  Tropical                 21.0   \n",
      "\n",
      "   precipitation_mm  %clay_current  %silt_current  ...  soil_to_cm_current  \\\n",
      "0            1500.0           13.7            5.1  ...                10.0   \n",
      "1            1500.0           14.8            1.1  ...                20.0   \n",
      "2            1500.0           18.0            2.0  ...                60.0   \n",
      "3            1500.0           18.8            3.5  ...               100.0   \n",
      "4            1500.0           38.1           10.9  ...                10.0   \n",
      "\n",
      "   depth_midpoint_current  %clay_delta  %silt_delta  %sand_delta  ph_delta  \\\n",
      "0                     5.0         -5.5         -5.3         10.7       NaN   \n",
      "1                    15.0         -6.9         -7.8         14.9       NaN   \n",
      "2                    40.0         -6.8         -6.7         13.5       NaN   \n",
      "3                    80.0         -6.0         -5.7         11.7       NaN   \n",
      "4                     5.0         -4.8         -0.5          5.3       NaN   \n",
      "\n",
      "   SOC_Mg_ha_delta  soil_from_cm_delta  soil_to_cm_delta  depth_midpoint_delta  \n",
      "0             3.31                 0.0               0.0                   0.0  \n",
      "1            -3.03                 0.0               0.0                   0.0  \n",
      "2           -24.46                 0.0               0.0                   0.0  \n",
      "3             0.13                 0.0               0.0                   0.0  \n",
      "4             0.15                 0.0               0.0                   0.0  \n",
      "\n",
      "[5 rows x 24 columns]\n"
     ]
    }
   ],
   "source": [
    "#Let's use our current and previous df dataframes to create a dataframe with delta values for each variable\n",
    "\n",
    "# Create separate dataframes for 'current' and 'previous' data\n",
    "current_df = df[['ID', 'IDstudy', 'plotID', 'country', 'region', 'climate', 'temperature_Celsiul', 'precipitation_mm', '%clay_current', '%silt_current', '%sand_current', \n",
    "                 'ph_current', 'SOC_Mg_ha_current', 'soil_from_cm_current', 'soil_to_cm_current', 'depth_midpoint_current']].copy()\n",
    "previous_df = df[['ID', 'IDstudy', 'plotID', 'country', 'region', 'climate', 'temperature_Celsiul', 'precipitation_mm', '%clay_previous', '%silt_previous', '%sand_previous', \n",
    "                  'ph_previous', 'SOC_Mg_ha_previous', 'soil_from_cm_previous', 'soil_to_cm_previous', 'depth_midpoint_previous']].copy()\n",
    "\n",
    "#Calculate a delta dataframe for each variable\n",
    "delta_df = current_df.copy()\n",
    "\n",
    "# Calculate the delta for each variable only where the variable changes between current and previous (ie. is labeled with _current and _previous)\n",
    "for col in current_df.columns:\n",
    "    if col.endswith('_current'):\n",
    "        prev_col = col.replace('_current', '_previous')\n",
    "        delta_df[col.replace('_current', '_delta')] = current_df[col] - previous_df[prev_col]\n",
    "\n",
    "print(delta_df.head())"
   ]
  },
  {
   "cell_type": "code",
   "execution_count": 23,
   "metadata": {},
   "outputs": [
    {
     "name": "stdout",
     "output_type": "stream",
     "text": [
      "   IDstudy  plotID  land_use_change_rank2\n",
      "0        1       3                      4\n",
      "1        1       3                      4\n",
      "2        1       3                      4\n",
      "3        1       3                      4\n",
      "4        1       4                      2\n",
      "   ID  IDstudy  plotID country    region   climate  temperature_Celsiul  \\\n",
      "0   1        1       1  Brazil  SaoPaulo  Tropical                 21.0   \n",
      "1   2        1       1  Brazil  SaoPaulo  Tropical                 21.0   \n",
      "2   3        1       1  Brazil  SaoPaulo  Tropical                 21.0   \n",
      "3   4        1       1  Brazil  SaoPaulo  Tropical                 21.0   \n",
      "4   5        1       2  Brazil  SaoPaulo  Tropical                 21.0   \n",
      "\n",
      "   precipitation_mm  %clay_current  %silt_current  ...  soil_to_cm_current  \\\n",
      "0            1500.0           13.7            5.1  ...                10.0   \n",
      "1            1500.0           14.8            1.1  ...                20.0   \n",
      "2            1500.0           18.0            2.0  ...                60.0   \n",
      "3            1500.0           18.8            3.5  ...               100.0   \n",
      "4            1500.0           38.1           10.9  ...                10.0   \n",
      "\n",
      "   depth_midpoint_current  %clay_delta  %silt_delta  %sand_delta  ph_delta  \\\n",
      "0                     5.0         -5.5         -5.3         10.7       NaN   \n",
      "1                    15.0         -6.9         -7.8         14.9       NaN   \n",
      "2                    40.0         -6.8         -6.7         13.5       NaN   \n",
      "3                    80.0         -6.0         -5.7         11.7       NaN   \n",
      "4                     5.0         -4.8         -0.5          5.3       NaN   \n",
      "\n",
      "   SOC_Mg_ha_delta  soil_from_cm_delta  soil_to_cm_delta  depth_midpoint_delta  \n",
      "0             3.31                 0.0               0.0                   0.0  \n",
      "1            -3.03                 0.0               0.0                   0.0  \n",
      "2           -24.46                 0.0               0.0                   0.0  \n",
      "3             0.13                 0.0               0.0                   0.0  \n",
      "4             0.15                 0.0               0.0                   0.0  \n",
      "\n",
      "[5 rows x 24 columns]\n",
      "   ID  IDstudy  plotID country    region   climate  temperature_Celsiul  \\\n",
      "0   9        1       3  Brazil  SaoPaulo  Tropical                 21.0   \n",
      "1   9        1       3  Brazil  SaoPaulo  Tropical                 21.0   \n",
      "2   9        1       3  Brazil  SaoPaulo  Tropical                 21.0   \n",
      "3   9        1       3  Brazil  SaoPaulo  Tropical                 21.0   \n",
      "4  10        1       3  Brazil  SaoPaulo  Tropical                 21.0   \n",
      "\n",
      "   precipitation_mm  %clay_current  %silt_current  ...  \\\n",
      "0            1500.0           30.8            5.1  ...   \n",
      "1            1500.0           30.8            5.1  ...   \n",
      "2            1500.0           30.8            5.1  ...   \n",
      "3            1500.0           30.8            5.1  ...   \n",
      "4            1500.0           26.7            5.4  ...   \n",
      "\n",
      "   depth_midpoint_current  %clay_delta  %silt_delta  %sand_delta  ph_delta  \\\n",
      "0                     5.0          2.1         -4.5         -0.4       NaN   \n",
      "1                     5.0          2.1         -4.5         -0.4       NaN   \n",
      "2                     5.0          2.1         -4.5         -0.4       NaN   \n",
      "3                     5.0          2.1         -4.5         -0.4       NaN   \n",
      "4                    15.0         -3.6         -2.0          5.6       NaN   \n",
      "\n",
      "   SOC_Mg_ha_delta  soil_from_cm_delta  soil_to_cm_delta  \\\n",
      "0             1.01                 0.0               0.0   \n",
      "1             1.01                 0.0               0.0   \n",
      "2             1.01                 0.0               0.0   \n",
      "3             1.01                 0.0               0.0   \n",
      "4             0.63                 0.0               0.0   \n",
      "\n",
      "   depth_midpoint_delta  land_use_change_rank2  \n",
      "0                   0.0                      4  \n",
      "1                   0.0                      4  \n",
      "2                   0.0                      4  \n",
      "3                   0.0                      4  \n",
      "4                   0.0                      4  \n",
      "\n",
      "[5 rows x 25 columns]\n"
     ]
    }
   ],
   "source": [
    "#Concatenate the delta dataframe with the luc_rank dataframe\n",
    "print(luc_rank.head())\n",
    "\n",
    "print(delta_df.head())\n",
    "\n",
    "#Merge the two dataframes on the both the IDstudy and plotID columns\n",
    "luc_combined = pd.merge(delta_df, luc_rank, on=['IDstudy', 'plotID'])\n",
    "\n",
    "print(luc_combined.head())\n",
    "\n",
    "#Rename land_use_change_rank2 to luc_rank\n",
    "luc_combined = luc_combined.rename(columns={'land_use_change_rank2': 'luc_rank'})\n",
    "\n",
    "#Rename the temperature_Celsiul column to temperature \n",
    "luc_combined = luc_combined.rename(columns={'temperature_Celsiul': 'temperature'})\n",
    "luc_combined= luc_combined.rename(columns={'precipitation_mm': 'precipitation'})\n",
    "luc_combined = luc_combined.rename(columns={'%clay_delta': 'delta_clay'})\n",
    "luc_combined = luc_combined.rename(columns={'%silt_delta': 'delta_silt'})\n",
    "luc_combined = luc_combined.rename(columns={'%sand_delta': 'delta_sand'})"
   ]
  },
  {
   "cell_type": "code",
   "execution_count": 24,
   "metadata": {},
   "outputs": [
    {
     "name": "stdout",
     "output_type": "stream",
     "text": [
      "                            OLS Regression Results                            \n",
      "==============================================================================\n",
      "Dep. Variable:        SOC_Mg_ha_delta   R-squared:                       0.239\n",
      "Model:                            OLS   Adj. R-squared:                  0.224\n",
      "Method:                 Least Squares   F-statistic:                     15.60\n",
      "Date:                Thu, 14 Nov 2024   Prob (F-statistic):           8.66e-18\n",
      "Time:                        13:38:54   Log-Likelihood:                -1145.1\n",
      "No. Observations:                 355   AIC:                             2306.\n",
      "Df Residuals:                     347   BIC:                             2337.\n",
      "Df Model:                           7                                         \n",
      "Covariance Type:            nonrobust                                         \n",
      "===============================================================================================\n",
      "                                  coef    std err          t      P>|t|      [0.025      0.975]\n",
      "-----------------------------------------------------------------------------------------------\n",
      "Intercept                      14.9584      5.524      2.708      0.007       4.093      25.824\n",
      "C(luc_rank)[T.2]                0.4898      2.346      0.209      0.835      -4.125       5.105\n",
      "C(luc_rank)[T.3]                1.3614      1.834      0.742      0.458      -2.245       4.968\n",
      "C(luc_rank)[T.4]                1.6398      1.530      1.071      0.285      -1.370       4.650\n",
      "C(luc_rank)[T.5]                0.9062      1.517      0.597      0.551      -2.077       3.890\n",
      "C(climate)[T.Boreal]        -3.473e-15    1.6e-15     -2.173      0.030   -6.62e-15    -3.3e-16\n",
      "C(climate)[T.Mediterranean]  1.938e-15   9.32e-16      2.079      0.038    1.05e-16    3.77e-15\n",
      "C(climate)[T.Temperate]         2.1384      3.810      0.561      0.575      -5.356       9.633\n",
      "C(climate)[T.Tropical]         10.5610      3.200      3.300      0.001       4.267      16.856\n",
      "temperature                    -0.8052      0.463     -1.738      0.083      -1.716       0.106\n",
      "precipitation                  -0.0120      0.002     -5.750      0.000      -0.016      -0.008\n",
      "==============================================================================\n",
      "Omnibus:                      114.237   Durbin-Watson:                   0.778\n",
      "Prob(Omnibus):                  0.000   Jarque-Bera (JB):              927.623\n",
      "Skew:                           1.101   Prob(JB):                    3.71e-202\n",
      "Kurtosis:                      10.607   Cond. No.                     3.12e+20\n",
      "==============================================================================\n",
      "\n",
      "Notes:\n",
      "[1] Standard Errors assume that the covariance matrix of the errors is correctly specified.\n",
      "[2] The smallest eigenvalue is 2.12e-33. This might indicate that there are\n",
      "strong multicollinearity problems or that the design matrix is singular.\n"
     ]
    }
   ],
   "source": [
    "#Run an multiple regression model that predicts the change in SOC stock based on the change in land use and the change in the other variables\n",
    "\n",
    "#Set luc_rank as a categorical variable\n",
    "luc_combined['luc_rank'] = luc_combined['luc_rank'].astype('category')\n",
    "\n",
    "#Set climate as a categorical variable\n",
    "luc_combined['climate'] = luc_combined['climate'].astype('category')\n",
    "\n",
    "#Drop all NaN values\n",
    "luc_combined = luc_combined.dropna()\n",
    "\n",
    "# Define the regression formula with fixed effects (country) and other predictors\n",
    "formula = 'SOC_Mg_ha_delta ~ temperature + precipitation + C(luc_rank) + C(climate)'\n",
    "\n",
    "# Fit the model using Ordinary Least Squares (OLS)\n",
    "model = smf.ols(formula=formula, data=luc_combined).fit()\n",
    "\n",
    "# Print the summary of the model\n",
    "\n",
    "print(model.summary())\n"
   ]
  }
 ],
 "metadata": {
  "kernelspec": {
   "display_name": "mgt-499-hfOBdtw9-py3.12",
   "language": "python",
   "name": "python3"
  },
  "language_info": {
   "codemirror_mode": {
    "name": "ipython",
    "version": 3
   },
   "file_extension": ".py",
   "mimetype": "text/x-python",
   "name": "python",
   "nbconvert_exporter": "python",
   "pygments_lexer": "ipython3",
   "version": "3.12.0"
  }
 },
 "nbformat": 4,
 "nbformat_minor": 2
}
